{
 "cells": [
  {
   "cell_type": "markdown",
   "id": "51beb591",
   "metadata": {},
   "source": [
    "# Problem Set 3\n"
   ]
  },
  {
   "cell_type": "markdown",
   "id": "84552c2b",
   "metadata": {},
   "source": [
    "# Question 1"
   ]
  },
  {
   "cell_type": "markdown",
   "id": "9cca5940",
   "metadata": {},
   "source": [
    "Introduction:<br>\n",
    "Special thanks to: https://github.com/justmarkham for sharing the dataset and materials.<br>\n",
    "Occupations\n",
    "Step 1. Import the necessary libraries<br>\n",
    "Step 2. Import the dataset from this address. <br>\n",
    "Step 3. Assign it to a variable called users<br>\n",
    "Step 4. Discover what is the mean age per occupation<br>\n",
    "Step 5. Discover the Male ratio per occupation and sort it from the most to the least <br>\n",
    "Step 6. For each occupation, calculate the minimum and maximum ages<br>\n",
    "Step 7. For each combination of occupation and sex, calculate the mean age <br>\n",
    "Step 8. For each occupation present the percentage of women and men<br>"
   ]
  },
  {
   "cell_type": "code",
   "execution_count": 4,
   "id": "735eb121",
   "metadata": {},
   "outputs": [],
   "source": [
    "import pandas as pd\n",
    "\n",
    "url = 'https://raw.githubusercontent.com/justmarkham/DAT8/master/data/u.user'\n",
    "\n",
    "users = pd.read_csv(url,delimiter = '|')"
   ]
  },
  {
   "cell_type": "markdown",
   "id": "ffb08f9b",
   "metadata": {},
   "source": [
    "1. Calculate mean age per occupation"
   ]
  },
  {
   "cell_type": "code",
   "execution_count": 6,
   "id": "ac0a4896",
   "metadata": {},
   "outputs": [
    {
     "name": "stdout",
     "output_type": "stream",
     "text": [
      "occupation\n",
      "administrator    38.746835\n",
      "artist           31.392857\n",
      "doctor           43.571429\n",
      "educator         42.010526\n",
      "engineer         36.388060\n",
      "entertainment    29.222222\n",
      "executive        38.718750\n",
      "healthcare       41.562500\n",
      "homemaker        32.571429\n",
      "lawyer           36.750000\n",
      "librarian        40.000000\n",
      "marketing        37.615385\n",
      "none             26.555556\n",
      "other            34.523810\n",
      "programmer       33.121212\n",
      "retired          63.071429\n",
      "salesman         35.666667\n",
      "scientist        35.548387\n",
      "student          22.081633\n",
      "technician       33.148148\n",
      "writer           36.311111\n",
      "Name: age, dtype: float64\n"
     ]
    }
   ],
   "source": [
    "mean_age_by_occupation = users.groupby('occupation')['age'].mean()\n",
    "\n",
    "print(mean_age_by_occupation)"
   ]
  },
  {
   "cell_type": "markdown",
   "id": "e9e11212",
   "metadata": {},
   "source": [
    "2. Calculate male ratio per occupation"
   ]
  },
  {
   "cell_type": "code",
   "execution_count": 8,
   "id": "e4d5bf89",
   "metadata": {},
   "outputs": [],
   "source": [
    "male_ratio_by_occupation = users.groupby('occupation')['gender'].agg(lambda x: (x == 'M').sum() / len(x))"
   ]
  },
  {
   "cell_type": "markdown",
   "id": "0696e664",
   "metadata": {},
   "source": [
    "3. Sort by male ratio in descending order"
   ]
  },
  {
   "cell_type": "code",
   "execution_count": 9,
   "id": "6e04aedb",
   "metadata": {},
   "outputs": [
    {
     "name": "stdout",
     "output_type": "stream",
     "text": [
      "occupation\n",
      "doctor           1.000000\n",
      "engineer         0.970149\n",
      "technician       0.962963\n",
      "retired          0.928571\n",
      "programmer       0.909091\n",
      "executive        0.906250\n",
      "scientist        0.903226\n",
      "entertainment    0.888889\n",
      "lawyer           0.833333\n",
      "salesman         0.750000\n",
      "educator         0.726316\n",
      "student          0.693878\n",
      "other            0.657143\n",
      "marketing        0.615385\n",
      "writer           0.577778\n",
      "none             0.555556\n",
      "administrator    0.544304\n",
      "artist           0.535714\n",
      "librarian        0.431373\n",
      "healthcare       0.312500\n",
      "homemaker        0.142857\n",
      "Name: gender, dtype: float64\n"
     ]
    }
   ],
   "source": [
    "male_ratio_by_occupation = male_ratio_by_occupation.sort_values(ascending=False)\n",
    "\n",
    "print(male_ratio_by_occupation)"
   ]
  },
  {
   "cell_type": "markdown",
   "id": "26307bda",
   "metadata": {},
   "source": [
    "4. Calculate minimum and maximum ages per occupation"
   ]
  },
  {
   "cell_type": "code",
   "execution_count": 10,
   "id": "a7229a8a",
   "metadata": {},
   "outputs": [
    {
     "name": "stdout",
     "output_type": "stream",
     "text": [
      "               min  max\n",
      "occupation             \n",
      "administrator   21   70\n",
      "artist          19   48\n",
      "doctor          28   64\n",
      "educator        23   63\n",
      "engineer        22   70\n",
      "entertainment   15   50\n",
      "executive       22   69\n",
      "healthcare      22   62\n",
      "homemaker       20   50\n",
      "lawyer          21   53\n",
      "librarian       23   69\n",
      "marketing       24   55\n",
      "none            11   55\n",
      "other           13   64\n",
      "programmer      20   63\n",
      "retired         51   73\n",
      "salesman        18   66\n",
      "scientist       23   55\n",
      "student          7   42\n",
      "technician      21   55\n",
      "writer          18   60\n"
     ]
    }
   ],
   "source": [
    "min_max_age_by_occupation = users.groupby('occupation')['age'].agg(['min', 'max'])\n",
    "\n",
    "print(min_max_age_by_occupation)"
   ]
  },
  {
   "cell_type": "markdown",
   "id": "712b0165",
   "metadata": {},
   "source": [
    "5. Calculate mean age per occupation and sex\n"
   ]
  },
  {
   "cell_type": "code",
   "execution_count": 11,
   "id": "138197da",
   "metadata": {},
   "outputs": [
    {
     "name": "stdout",
     "output_type": "stream",
     "text": [
      "occupation     gender\n",
      "administrator  F         40.638889\n",
      "               M         37.162791\n",
      "artist         F         30.307692\n",
      "               M         32.333333\n",
      "doctor         M         43.571429\n",
      "educator       F         39.115385\n",
      "               M         43.101449\n",
      "engineer       F         29.500000\n",
      "               M         36.600000\n",
      "entertainment  F         31.000000\n",
      "               M         29.000000\n",
      "executive      F         44.000000\n",
      "               M         38.172414\n",
      "healthcare     F         39.818182\n",
      "               M         45.400000\n",
      "homemaker      F         34.166667\n",
      "               M         23.000000\n",
      "lawyer         F         39.500000\n",
      "               M         36.200000\n",
      "librarian      F         40.000000\n",
      "               M         40.000000\n",
      "marketing      F         37.200000\n",
      "               M         37.875000\n",
      "none           F         36.500000\n",
      "               M         18.600000\n",
      "other          F         35.472222\n",
      "               M         34.028986\n",
      "programmer     F         32.166667\n",
      "               M         33.216667\n",
      "retired        F         70.000000\n",
      "               M         62.538462\n",
      "salesman       F         27.000000\n",
      "               M         38.555556\n",
      "scientist      F         28.333333\n",
      "               M         36.321429\n",
      "student        F         20.750000\n",
      "               M         22.669118\n",
      "technician     F         38.000000\n",
      "               M         32.961538\n",
      "writer         F         37.631579\n",
      "               M         35.346154\n",
      "Name: age, dtype: float64\n"
     ]
    }
   ],
   "source": [
    "mean_age_by_occupation_sex = users.groupby(['occupation', 'gender'])['age'].mean()\n",
    "\n",
    "print(mean_age_by_occupation_sex)"
   ]
  },
  {
   "cell_type": "markdown",
   "id": "cbbb7779",
   "metadata": {},
   "source": [
    "6. Calculate percentage of women and men per occupation"
   ]
  },
  {
   "cell_type": "code",
   "execution_count": 12,
   "id": "ec8259d3",
   "metadata": {},
   "outputs": [
    {
     "name": "stdout",
     "output_type": "stream",
     "text": [
      "                      age  gender  user_id  zip_code\n",
      "occupation    gender                                \n",
      "administrator F       NaN   45.57      NaN       NaN\n",
      "              M       NaN   54.43      NaN       NaN\n",
      "artist        F       NaN   46.43      NaN       NaN\n",
      "              M       NaN   53.57      NaN       NaN\n",
      "doctor        M       NaN  100.00      NaN       NaN\n",
      "educator      F       NaN   27.37      NaN       NaN\n",
      "              M       NaN   72.63      NaN       NaN\n",
      "engineer      F       NaN    2.99      NaN       NaN\n",
      "              M       NaN   97.01      NaN       NaN\n",
      "entertainment F       NaN   11.11      NaN       NaN\n",
      "              M       NaN   88.89      NaN       NaN\n",
      "executive     F       NaN    9.38      NaN       NaN\n",
      "              M       NaN   90.62      NaN       NaN\n",
      "healthcare    F       NaN   68.75      NaN       NaN\n",
      "              M       NaN   31.25      NaN       NaN\n",
      "homemaker     F       NaN   85.71      NaN       NaN\n",
      "              M       NaN   14.29      NaN       NaN\n",
      "lawyer        F       NaN   16.67      NaN       NaN\n",
      "              M       NaN   83.33      NaN       NaN\n",
      "librarian     F       NaN   56.86      NaN       NaN\n",
      "              M       NaN   43.14      NaN       NaN\n",
      "marketing     F       NaN   38.46      NaN       NaN\n",
      "              M       NaN   61.54      NaN       NaN\n",
      "none          F       NaN   44.44      NaN       NaN\n",
      "              M       NaN   55.56      NaN       NaN\n",
      "other         F       NaN   34.29      NaN       NaN\n",
      "              M       NaN   65.71      NaN       NaN\n",
      "programmer    F       NaN    9.09      NaN       NaN\n",
      "              M       NaN   90.91      NaN       NaN\n",
      "retired       F       NaN    7.14      NaN       NaN\n",
      "              M       NaN   92.86      NaN       NaN\n",
      "salesman      F       NaN   25.00      NaN       NaN\n",
      "              M       NaN   75.00      NaN       NaN\n",
      "scientist     F       NaN    9.68      NaN       NaN\n",
      "              M       NaN   90.32      NaN       NaN\n",
      "student       F       NaN   30.61      NaN       NaN\n",
      "              M       NaN   69.39      NaN       NaN\n",
      "technician    F       NaN    3.70      NaN       NaN\n",
      "              M       NaN   96.30      NaN       NaN\n",
      "writer        F       NaN   42.22      NaN       NaN\n",
      "              M       NaN   57.78      NaN       NaN\n"
     ]
    }
   ],
   "source": [
    "total_by_occupation_gender = users.groupby(['occupation', 'gender']).agg({'gender': 'count'})\n",
    "\n",
    "total_by_occupation = users.groupby('occupation').agg('count')\n",
    "\n",
    "percentage_by_occupation_gender = (total_by_occupation_gender.div(total_by_occupation, level = \"occupation\") * 100).round(2)\n",
    "\n",
    "print(percentage_by_occupation_gender)"
   ]
  },
  {
   "cell_type": "markdown",
   "id": "7e53a64b",
   "metadata": {},
   "source": [
    "## Question 2"
   ]
  },
  {
   "cell_type": "markdown",
   "id": "f3285834",
   "metadata": {},
   "source": [
    "Euro Teams<br>\n",
    "Step 1. Import the necessary libraries<br>\n",
    "Step 2. Import the dataset from this address<br>\n",
    "Step 3. Assign it to a variable called euro12 <br>\n",
    "Step 4. Select only the Goal column<br>\n",
    "Step 5. How many team participated in the Euro2012? <br>\n",
    "Step 6. What is the number of columns in the dataset?<br>\n",
    "Step 7. View only the columns Team, Yellow Cards and Red Cards and assign them to a dataframe called discipline<br>\n",
    "Step 8. Sort the teams by Red Cards, then to Yellow Cards <br>\n",
    "Step 9. Calculate the mean Yellow Cards given per Team<br>\n",
    "Step 10. Filter teams that scored more than 6 goalsStep 11. Select the teams that start with G<br>\n",
    "Step 12. Select the first 7 columns<br>\n",
    "Step 13. Select all columns except the last 3<br>\n",
    "Step 14. Present only the Shooting Accuracy from England, Italy and Russia<br>\n"
   ]
  },
  {
   "cell_type": "code",
   "execution_count": 14,
   "id": "f7b8af56",
   "metadata": {},
   "outputs": [],
   "source": [
    "import pandas as pd\n",
    "url = \"https://raw.githubusercontent.com/guipsamora/pandas_exercises/master/02_Filtering_%26_Sorting/Euro12/Euro_2012_stats_TEAM.csv\"\n",
    "euro12 = pd.read_csv(url)"
   ]
  },
  {
   "cell_type": "markdown",
   "id": "f1501fe9",
   "metadata": {},
   "source": [
    "1. Select only the \"Goal\" column"
   ]
  },
  {
   "cell_type": "code",
   "execution_count": 15,
   "id": "9776222e",
   "metadata": {},
   "outputs": [
    {
     "name": "stdout",
     "output_type": "stream",
     "text": [
      "0    4\n",
      "1    4\n",
      "2    4\n",
      "3    5\n",
      "4    3\n",
      "Name: Goals, dtype: int64\n"
     ]
    }
   ],
   "source": [
    "goals = euro12[\"Goals\"]\n",
    "print(goals.head())"
   ]
  },
  {
   "cell_type": "markdown",
   "id": "d9656355",
   "metadata": {},
   "source": [
    "2. Get the number of unique teams in the \"Team\" column"
   ]
  },
  {
   "cell_type": "code",
   "execution_count": 16,
   "id": "6c0eae02",
   "metadata": {},
   "outputs": [
    {
     "name": "stdout",
     "output_type": "stream",
     "text": [
      "Number of teams:  16\n"
     ]
    }
   ],
   "source": [
    "num_teams = euro12[\"Team\"].nunique()\n",
    "print(\"Number of teams: \", num_teams)"
   ]
  },
  {
   "cell_type": "markdown",
   "id": "cb9c6738",
   "metadata": {},
   "source": [
    "3. Get the number of columns in the Data"
   ]
  },
  {
   "cell_type": "code",
   "execution_count": 17,
   "id": "4afab1f8",
   "metadata": {},
   "outputs": [
    {
     "name": "stdout",
     "output_type": "stream",
     "text": [
      "Number of columns:  35\n"
     ]
    }
   ],
   "source": [
    "num_cols = euro12.shape[1]\n",
    "\n",
    "print(\"Number of columns: \", num_cols)"
   ]
  },
  {
   "cell_type": "markdown",
   "id": "354bb384",
   "metadata": {},
   "source": [
    "4. Select only the \"Team\", \"Yellow Cards\", and \"Red Cards\" columns"
   ]
  },
  {
   "cell_type": "code",
   "execution_count": 18,
   "id": "d738de28",
   "metadata": {},
   "outputs": [
    {
     "name": "stdout",
     "output_type": "stream",
     "text": [
      "             Team  Yellow Cards  Red Cards\n",
      "0         Croatia             9          0\n",
      "1  Czech Republic             7          0\n",
      "2         Denmark             4          0\n",
      "3         England             5          0\n",
      "4          France             6          0\n"
     ]
    }
   ],
   "source": [
    "discipline = euro12[[\"Team\", \"Yellow Cards\", \"Red Cards\"]]\n",
    "\n",
    "print(discipline.head())"
   ]
  },
  {
   "cell_type": "markdown",
   "id": "70e75fa4",
   "metadata": {},
   "source": [
    "5. Sort the teams by \"Red Cards\" first, then by \"Yellow Cards\""
   ]
  },
  {
   "cell_type": "code",
   "execution_count": 19,
   "id": "4fad0c25",
   "metadata": {},
   "outputs": [
    {
     "name": "stdout",
     "output_type": "stream",
     "text": [
      "                   Team  Yellow Cards  Red Cards\n",
      "6                Greece             9          1\n",
      "9                Poland             7          1\n",
      "11  Republic of Ireland             6          1\n",
      "7                 Italy            16          0\n",
      "10             Portugal            12          0\n"
     ]
    }
   ],
   "source": [
    "discipline = euro12[[\"Team\", \"Yellow Cards\", \"Red Cards\"]].sort_values([\"Red Cards\", \"Yellow Cards\"], ascending=[False, False])\n",
    "\n",
    "print(discipline.head())"
   ]
  },
  {
   "cell_type": "markdown",
   "id": "e447b7dd",
   "metadata": {},
   "source": [
    "6. Calculate the mean \"Yellow Cards\" given per team"
   ]
  },
  {
   "cell_type": "code",
   "execution_count": 20,
   "id": "15f626b3",
   "metadata": {},
   "outputs": [
    {
     "name": "stdout",
     "output_type": "stream",
     "text": [
      "Mean Yellow Cards per team: 7.4375\n"
     ]
    }
   ],
   "source": [
    "mean_yellow_cards = euro12[\"Yellow Cards\"].mean()\n",
    "\n",
    "print(\"Mean Yellow Cards per team:\", mean_yellow_cards)"
   ]
  },
  {
   "cell_type": "markdown",
   "id": "e2044e29",
   "metadata": {},
   "source": [
    "7. Select the teams that start with \"G\""
   ]
  },
  {
   "cell_type": "code",
   "execution_count": 21,
   "id": "bd593558",
   "metadata": {},
   "outputs": [
    {
     "name": "stdout",
     "output_type": "stream",
     "text": [
      "      Team  Goals  Shots on target  Shots off target Shooting Accuracy  \\\n",
      "5  Germany     10               32                32             47.8%   \n",
      "6   Greece      5                8                18             30.7%   \n",
      "\n",
      "  % Goals-to-shots  Total shots (inc. Blocked)  Hit Woodwork  Penalty goals  \\\n",
      "5            15.6%                          80             2              1   \n",
      "6            19.2%                          32             1              1   \n",
      "\n",
      "   Penalties not scored  ...  Saves made  Saves-to-shots ratio  Fouls Won  \\\n",
      "5                     0  ...          10                 62.6%         63   \n",
      "6                     1  ...          13                 65.1%         67   \n",
      "\n",
      "  Fouls Conceded  Offsides  Yellow Cards  Red Cards  Subs on  Subs off  \\\n",
      "5             49        12             4          0       15        15   \n",
      "6             48        12             9          1       12        12   \n",
      "\n",
      "   Players Used  \n",
      "5            17  \n",
      "6            20  \n",
      "\n",
      "[2 rows x 35 columns]\n"
     ]
    }
   ],
   "source": [
    "g_teams = euro12[euro12[\"Team\"].str.startswith(\"G\")]\n",
    "\n",
    "print(g_teams)"
   ]
  },
  {
   "cell_type": "markdown",
   "id": "fb99239d",
   "metadata": {},
   "source": [
    "8. Select the first 7 columns"
   ]
  },
  {
   "cell_type": "code",
   "execution_count": 22,
   "id": "63b06b6d",
   "metadata": {},
   "outputs": [
    {
     "name": "stdout",
     "output_type": "stream",
     "text": [
      "             Team  Goals  Shots on target  Shots off target Shooting Accuracy  \\\n",
      "0         Croatia      4               13                12             51.9%   \n",
      "1  Czech Republic      4               13                18             41.9%   \n",
      "2         Denmark      4               10                10             50.0%   \n",
      "3         England      5               11                18             50.0%   \n",
      "4          France      3               22                24             37.9%   \n",
      "\n",
      "  % Goals-to-shots  Total shots (inc. Blocked)  \n",
      "0            16.0%                          32  \n",
      "1            12.9%                          39  \n",
      "2            20.0%                          27  \n",
      "3            17.2%                          40  \n",
      "4             6.5%                          65  \n"
     ]
    }
   ],
   "source": [
    "first_7_cols = euro12.iloc[:, :7]\n",
    "\n",
    "print(first_7_cols.head())"
   ]
  },
  {
   "cell_type": "markdown",
   "id": "988cf557",
   "metadata": {},
   "source": [
    "9. Select all columns except the last 3"
   ]
  },
  {
   "cell_type": "code",
   "execution_count": 23,
   "id": "8e6c9fd7",
   "metadata": {},
   "outputs": [
    {
     "name": "stdout",
     "output_type": "stream",
     "text": [
      "             Team  Goals  Shots on target  Shots off target Shooting Accuracy  \\\n",
      "0         Croatia      4               13                12             51.9%   \n",
      "1  Czech Republic      4               13                18             41.9%   \n",
      "2         Denmark      4               10                10             50.0%   \n",
      "3         England      5               11                18             50.0%   \n",
      "4          France      3               22                24             37.9%   \n",
      "\n",
      "  % Goals-to-shots  Total shots (inc. Blocked)  Hit Woodwork  Penalty goals  \\\n",
      "0            16.0%                          32             0              0   \n",
      "1            12.9%                          39             0              0   \n",
      "2            20.0%                          27             1              0   \n",
      "3            17.2%                          40             0              0   \n",
      "4             6.5%                          65             1              0   \n",
      "\n",
      "   Penalties not scored  ...  Clean Sheets  Blocks  Goals conceded Saves made  \\\n",
      "0                     0  ...             0      10               3         13   \n",
      "1                     0  ...             1      10               6          9   \n",
      "2                     0  ...             1      10               5         10   \n",
      "3                     0  ...             2      29               3         22   \n",
      "4                     0  ...             1       7               5          6   \n",
      "\n",
      "   Saves-to-shots ratio  Fouls Won  Fouls Conceded  Offsides  Yellow Cards  \\\n",
      "0                 81.3%         41              62         2             9   \n",
      "1                 60.1%         53              73         8             7   \n",
      "2                 66.7%         25              38         8             4   \n",
      "3                 88.1%         43              45         6             5   \n",
      "4                 54.6%         36              51         5             6   \n",
      "\n",
      "   Red Cards  \n",
      "0          0  \n",
      "1          0  \n",
      "2          0  \n",
      "3          0  \n",
      "4          0  \n",
      "\n",
      "[5 rows x 32 columns]\n"
     ]
    }
   ],
   "source": [
    "all_except_last_3_cols = euro12.iloc[:, :-3]\n",
    "\n",
    "print(all_except_last_3_cols.head())"
   ]
  },
  {
   "cell_type": "markdown",
   "id": "125d87fa",
   "metadata": {},
   "source": [
    "10. Select the Shooting Accuracy for England, Italy, and Russia"
   ]
  },
  {
   "cell_type": "code",
   "execution_count": 24,
   "id": "725c2faf",
   "metadata": {},
   "outputs": [
    {
     "name": "stdout",
     "output_type": "stream",
     "text": [
      "       Team Shooting Accuracy\n",
      "3   England             50.0%\n",
      "7     Italy             43.0%\n",
      "12   Russia             22.5%\n"
     ]
    }
   ],
   "source": [
    "shooting_accuracy = euro12.loc[euro12['Team'].isin(['England', 'Italy', 'Russia']), ['Team', 'Shooting Accuracy']]\n",
    "\n",
    "print(shooting_accuracy)"
   ]
  },
  {
   "cell_type": "markdown",
   "id": "54befcff",
   "metadata": {},
   "source": [
    "# Question 3"
   ]
  },
  {
   "cell_type": "markdown",
   "id": "e9e0e2a5",
   "metadata": {},
   "source": [
    "Housing<br>\n",
    "Step 1. Import the necessary libraries<br>\n",
    "Step 2. Create 3 differents Series, each of length 100, as follows:<br>\n",
    "• The first a random number from 1 to 4<br>\n",
    "• The second a random number from 1 to 3<br>\n",
    "• The third a random number from 10,000 to 30,000 <br>\n",
    "Step 3. Create a DataFrame by joinning the Series by column<br>\n",
    "Step 4. Change the name of the columns to bedrs, bathrs, price_sqr_meter<br>\n",
    "Step 5. Create a one column DataFrame with the values of the 3 Series and assign it to 'bigcolumn'<br>\n",
    "Step 6. Ops it seems it is going only until index 99. Is it true? <br>\n",
    "Step 7. Reindex the DataFrame so it goes from 0 to 299<br>"
   ]
  },
  {
   "cell_type": "markdown",
   "id": "b3e1a172",
   "metadata": {},
   "source": [
    "1. Import the necessary libraries"
   ]
  },
  {
   "cell_type": "code",
   "execution_count": 25,
   "id": "224b944c",
   "metadata": {},
   "outputs": [],
   "source": [
    "import pandas as pd\n",
    "\n",
    "import numpy as np\n",
    "\n",
    "import random"
   ]
  },
  {
   "cell_type": "markdown",
   "id": "06b73e88",
   "metadata": {},
   "source": [
    "2. Create 3 differents Series, each of length 100, as follows:<br>\n",
    "• The first a random number from 1 to 4<br>\n",
    "• The second a random number from 1 to 3<br>\n",
    "• The third a random number from 10,000 to 30,000<br>"
   ]
  },
  {
   "cell_type": "code",
   "execution_count": 27,
   "id": "832fd159",
   "metadata": {},
   "outputs": [],
   "source": [
    "first = pd.Series(np.random.randint(1,4,100))\n",
    "\n",
    "second = pd.Series(np.random.randint(1,3,100))\n",
    "\n",
    "third = pd.Series(np.random.randint(1000,30000,100))"
   ]
  },
  {
   "cell_type": "markdown",
   "id": "43124eef",
   "metadata": {},
   "source": [
    "3. Create a DataFrame by joinning the Series by column"
   ]
  },
  {
   "cell_type": "code",
   "execution_count": 28,
   "id": "0f43be1c",
   "metadata": {},
   "outputs": [
    {
     "data": {
      "text/html": [
       "<div>\n",
       "<style scoped>\n",
       "    .dataframe tbody tr th:only-of-type {\n",
       "        vertical-align: middle;\n",
       "    }\n",
       "\n",
       "    .dataframe tbody tr th {\n",
       "        vertical-align: top;\n",
       "    }\n",
       "\n",
       "    .dataframe thead th {\n",
       "        text-align: right;\n",
       "    }\n",
       "</style>\n",
       "<table border=\"1\" class=\"dataframe\">\n",
       "  <thead>\n",
       "    <tr style=\"text-align: right;\">\n",
       "      <th></th>\n",
       "      <th>0</th>\n",
       "      <th>1</th>\n",
       "      <th>2</th>\n",
       "    </tr>\n",
       "  </thead>\n",
       "  <tbody>\n",
       "    <tr>\n",
       "      <th>0</th>\n",
       "      <td>2</td>\n",
       "      <td>2</td>\n",
       "      <td>23005</td>\n",
       "    </tr>\n",
       "    <tr>\n",
       "      <th>1</th>\n",
       "      <td>1</td>\n",
       "      <td>1</td>\n",
       "      <td>8227</td>\n",
       "    </tr>\n",
       "    <tr>\n",
       "      <th>2</th>\n",
       "      <td>2</td>\n",
       "      <td>1</td>\n",
       "      <td>9037</td>\n",
       "    </tr>\n",
       "    <tr>\n",
       "      <th>3</th>\n",
       "      <td>3</td>\n",
       "      <td>1</td>\n",
       "      <td>15899</td>\n",
       "    </tr>\n",
       "    <tr>\n",
       "      <th>4</th>\n",
       "      <td>3</td>\n",
       "      <td>2</td>\n",
       "      <td>23989</td>\n",
       "    </tr>\n",
       "    <tr>\n",
       "      <th>...</th>\n",
       "      <td>...</td>\n",
       "      <td>...</td>\n",
       "      <td>...</td>\n",
       "    </tr>\n",
       "    <tr>\n",
       "      <th>95</th>\n",
       "      <td>2</td>\n",
       "      <td>1</td>\n",
       "      <td>5105</td>\n",
       "    </tr>\n",
       "    <tr>\n",
       "      <th>96</th>\n",
       "      <td>1</td>\n",
       "      <td>2</td>\n",
       "      <td>20528</td>\n",
       "    </tr>\n",
       "    <tr>\n",
       "      <th>97</th>\n",
       "      <td>3</td>\n",
       "      <td>2</td>\n",
       "      <td>29000</td>\n",
       "    </tr>\n",
       "    <tr>\n",
       "      <th>98</th>\n",
       "      <td>3</td>\n",
       "      <td>2</td>\n",
       "      <td>16717</td>\n",
       "    </tr>\n",
       "    <tr>\n",
       "      <th>99</th>\n",
       "      <td>3</td>\n",
       "      <td>2</td>\n",
       "      <td>11263</td>\n",
       "    </tr>\n",
       "  </tbody>\n",
       "</table>\n",
       "<p>100 rows × 3 columns</p>\n",
       "</div>"
      ],
      "text/plain": [
       "    0  1      2\n",
       "0   2  2  23005\n",
       "1   1  1   8227\n",
       "2   2  1   9037\n",
       "3   3  1  15899\n",
       "4   3  2  23989\n",
       ".. .. ..    ...\n",
       "95  2  1   5105\n",
       "96  1  2  20528\n",
       "97  3  2  29000\n",
       "98  3  2  16717\n",
       "99  3  2  11263\n",
       "\n",
       "[100 rows x 3 columns]"
      ]
     },
     "execution_count": 28,
     "metadata": {},
     "output_type": "execute_result"
    }
   ],
   "source": [
    "table1 = pd.concat([first,second,third],axis=1)\n",
    "\n",
    "table1"
   ]
  },
  {
   "cell_type": "markdown",
   "id": "cf9614b0",
   "metadata": {},
   "source": [
    "4. Change the name of the columns to bedrs, bathrs, price_sqr_meter"
   ]
  },
  {
   "cell_type": "code",
   "execution_count": 29,
   "id": "df885184",
   "metadata": {},
   "outputs": [
    {
     "data": {
      "text/html": [
       "<div>\n",
       "<style scoped>\n",
       "    .dataframe tbody tr th:only-of-type {\n",
       "        vertical-align: middle;\n",
       "    }\n",
       "\n",
       "    .dataframe tbody tr th {\n",
       "        vertical-align: top;\n",
       "    }\n",
       "\n",
       "    .dataframe thead th {\n",
       "        text-align: right;\n",
       "    }\n",
       "</style>\n",
       "<table border=\"1\" class=\"dataframe\">\n",
       "  <thead>\n",
       "    <tr style=\"text-align: right;\">\n",
       "      <th></th>\n",
       "      <th>bedrs</th>\n",
       "      <th>bathrs</th>\n",
       "      <th>price_sqr_meter</th>\n",
       "    </tr>\n",
       "  </thead>\n",
       "  <tbody>\n",
       "    <tr>\n",
       "      <th>0</th>\n",
       "      <td>2</td>\n",
       "      <td>2</td>\n",
       "      <td>23005</td>\n",
       "    </tr>\n",
       "    <tr>\n",
       "      <th>1</th>\n",
       "      <td>1</td>\n",
       "      <td>1</td>\n",
       "      <td>8227</td>\n",
       "    </tr>\n",
       "    <tr>\n",
       "      <th>2</th>\n",
       "      <td>2</td>\n",
       "      <td>1</td>\n",
       "      <td>9037</td>\n",
       "    </tr>\n",
       "    <tr>\n",
       "      <th>3</th>\n",
       "      <td>3</td>\n",
       "      <td>1</td>\n",
       "      <td>15899</td>\n",
       "    </tr>\n",
       "    <tr>\n",
       "      <th>4</th>\n",
       "      <td>3</td>\n",
       "      <td>2</td>\n",
       "      <td>23989</td>\n",
       "    </tr>\n",
       "  </tbody>\n",
       "</table>\n",
       "</div>"
      ],
      "text/plain": [
       "   bedrs  bathrs  price_sqr_meter\n",
       "0      2       2            23005\n",
       "1      1       1             8227\n",
       "2      2       1             9037\n",
       "3      3       1            15899\n",
       "4      3       2            23989"
      ]
     },
     "execution_count": 29,
     "metadata": {},
     "output_type": "execute_result"
    }
   ],
   "source": [
    "table1.columns = ['bedrs','bathrs','price_sqr_meter']\n",
    "\n",
    "table1.head()"
   ]
  },
  {
   "cell_type": "markdown",
   "id": "e75e493a",
   "metadata": {},
   "source": [
    "5. Create a one column DataFrame with the values of the 3 Series and assign it to 'bigcolumn'"
   ]
  },
  {
   "cell_type": "code",
   "execution_count": 30,
   "id": "ad828f56",
   "metadata": {},
   "outputs": [
    {
     "data": {
      "text/plain": [
       "0         2\n",
       "1         1\n",
       "2         2\n",
       "3         3\n",
       "4         3\n",
       "      ...  \n",
       "95     5105\n",
       "96    20528\n",
       "97    29000\n",
       "98    16717\n",
       "99    11263\n",
       "Length: 300, dtype: int32"
      ]
     },
     "execution_count": 30,
     "metadata": {},
     "output_type": "execute_result"
    }
   ],
   "source": [
    "bigcolumn = pd.concat([first,second,third],axis=0)\n",
    "\n",
    "bigcolumn"
   ]
  },
  {
   "cell_type": "markdown",
   "id": "d6ba7755",
   "metadata": {},
   "source": [
    "6. Ops it seems it is going only until index 99. Is it true?"
   ]
  },
  {
   "cell_type": "code",
   "execution_count": 31,
   "id": "97190cd9",
   "metadata": {},
   "outputs": [
    {
     "data": {
      "text/plain": [
       "300"
      ]
     },
     "execution_count": 31,
     "metadata": {},
     "output_type": "execute_result"
    }
   ],
   "source": [
    "len(bigcolumn)"
   ]
  },
  {
   "cell_type": "markdown",
   "id": "7235e1f3",
   "metadata": {},
   "source": [
    "7. Reindex the DataFrame so it goes from 0 to 299"
   ]
  },
  {
   "cell_type": "code",
   "execution_count": 32,
   "id": "6864559b",
   "metadata": {},
   "outputs": [
    {
     "data": {
      "text/plain": [
       "0          2\n",
       "1          1\n",
       "2          2\n",
       "3          3\n",
       "4          3\n",
       "       ...  \n",
       "295     5105\n",
       "296    20528\n",
       "297    29000\n",
       "298    16717\n",
       "299    11263\n",
       "Length: 300, dtype: int32"
      ]
     },
     "execution_count": 32,
     "metadata": {},
     "output_type": "execute_result"
    }
   ],
   "source": [
    "bigcolumn.reset_index(drop=True, inplace=True)\n",
    "\n",
    "bigcolumn\n"
   ]
  },
  {
   "cell_type": "markdown",
   "id": "5ff0c1f3",
   "metadata": {},
   "source": [
    "# Question 4"
   ]
  },
  {
   "cell_type": "markdown",
   "id": "96552316",
   "metadata": {},
   "source": [
    "Wind Statistics<br>\n",
    "The data have been modified to contain some missing values, identified by NaN. <br>\n",
    "Using pandas should make this exercise easier, in particular for the bonus question.<br>\n",
    "You should be able to perform all of these operations without using a for loop or other looping construct.<br>\n",
    "The data in 'wind.data' has the following format:<br>\n",
    "Yr Mo Dy RPT VAL ROS KIL SHA BIR DUB CLA MUL CLO BEL MAL<br>\n",
    "61 1 1 15.04 14.96 13.17 9.29 NaN 9.87 13.67 10.25 10.83 12.58 18.50 15.04<br>\n",
    "61 1 2 14.71 NaN 10.83 6.50 12.62 7.67 11.50 10.04 9.79 9.67 17.54 13.83<br>\n",
    "61 1 3 18.50 16.88 12.33 10.13 11.17 6.17 11.25 NaN 8.50 7.67 12.75 12.71<br>\n",
    "<br>\n",
    "The first three columns are year, month, and day. The remaining 12 columns are average windspeeds in knots at 12 locations in reland on that day.<br>\n",
    "Step 1. Import the necessary libraries<br>\n",
    "Step 2. Import the dataset from the attached file wind.txt<br>\n",
    "Step 3. Assign it to a variable called data and replace the first 3 columns by a proper \n",
    "datetime index.<br>\n",
    "Step 4. Year 2061? Do we really have data from this year? Create a function to fix it \n",
    "and apply it.<br>\n",
    "Step 5. Set the right dates as the index. Pay attention at the data type, it should be \n",
    "datetime64[ns].<br>\n",
    "Step 6. Compute how many values are missing for each location over the entire \n",
    "record.They should be ignored in all calculations below.<br>\n",
    "Step 7. Compute how many non-missing values there are in total.<br>\n",
    "Step 8. Calculate the mean windspeeds of the windspeeds over all the locations and \n",
    "all the times.\n",
    "A single number for the entire dataset.<br>\n",
    "Step 9. Create a DataFrame called loc_stats and calculate the min, max and mean \n",
    "windspeeds and standard deviations of the windspeeds at each location over all the \n",
    "days\n",
    "A different set of numbers for each location.<br>\n",
    "Step 10. Create a DataFrame called day_stats and calculate the min, max and mean \n",
    "windspeed and standard deviations of the windspeeds across all the locations at each \n",
    "day.\n",
    "A different set of numbers for each day.<br>\n",
    "Step 11. Find the average windspeed in January for each location. \n",
    "Treat January 1961 and January 1962 both as January.<br>\n",
    "Step 12. Downsample the record to a yearly frequency for each location.<br> \n",
    "Step 13. Downsample the record to a monthly frequency for each location. <br>\n",
    "Step 14. Downsample the record to a weekly frequency for each location.<br>\n",
    "Step 15. Calculate the min, max and mean windspeeds and standard deviations of the \n",
    "windspeeds across all locations for each week (assume that the first week starts on<br>"
   ]
  },
  {
   "cell_type": "code",
   "execution_count": 44,
   "id": "dc3ee2af",
   "metadata": {},
   "outputs": [],
   "source": [
    "import pandas as pd\n",
    "import numpy as np\n",
    "import datetime"
   ]
  },
  {
   "cell_type": "code",
   "execution_count": 46,
   "id": "c138257d",
   "metadata": {},
   "outputs": [
    {
     "data": {
      "text/html": [
       "<div>\n",
       "<style scoped>\n",
       "    .dataframe tbody tr th:only-of-type {\n",
       "        vertical-align: middle;\n",
       "    }\n",
       "\n",
       "    .dataframe tbody tr th {\n",
       "        vertical-align: top;\n",
       "    }\n",
       "\n",
       "    .dataframe thead th {\n",
       "        text-align: right;\n",
       "    }\n",
       "</style>\n",
       "<table border=\"1\" class=\"dataframe\">\n",
       "  <thead>\n",
       "    <tr style=\"text-align: right;\">\n",
       "      <th></th>\n",
       "      <th>Yr_Mo_Dy</th>\n",
       "      <th>RPT</th>\n",
       "      <th>VAL</th>\n",
       "      <th>ROS</th>\n",
       "      <th>KIL</th>\n",
       "      <th>SHA</th>\n",
       "      <th>BIR</th>\n",
       "      <th>DUB</th>\n",
       "      <th>CLA</th>\n",
       "      <th>MUL</th>\n",
       "      <th>CLO</th>\n",
       "      <th>BEL</th>\n",
       "      <th>MAL</th>\n",
       "    </tr>\n",
       "  </thead>\n",
       "  <tbody>\n",
       "    <tr>\n",
       "      <th>0</th>\n",
       "      <td>2061-01-01</td>\n",
       "      <td>15.04</td>\n",
       "      <td>14.96</td>\n",
       "      <td>13.17</td>\n",
       "      <td>9.29</td>\n",
       "      <td>NaN</td>\n",
       "      <td>9.87</td>\n",
       "      <td>13.67</td>\n",
       "      <td>10.25</td>\n",
       "      <td>10.83</td>\n",
       "      <td>12.58</td>\n",
       "      <td>18.50</td>\n",
       "      <td>15.04</td>\n",
       "    </tr>\n",
       "    <tr>\n",
       "      <th>1</th>\n",
       "      <td>2061-01-02</td>\n",
       "      <td>14.71</td>\n",
       "      <td>NaN</td>\n",
       "      <td>10.83</td>\n",
       "      <td>6.50</td>\n",
       "      <td>12.62</td>\n",
       "      <td>7.67</td>\n",
       "      <td>11.50</td>\n",
       "      <td>10.04</td>\n",
       "      <td>9.79</td>\n",
       "      <td>9.67</td>\n",
       "      <td>17.54</td>\n",
       "      <td>13.83</td>\n",
       "    </tr>\n",
       "    <tr>\n",
       "      <th>2</th>\n",
       "      <td>2061-01-03</td>\n",
       "      <td>18.50</td>\n",
       "      <td>16.88</td>\n",
       "      <td>12.33</td>\n",
       "      <td>10.13</td>\n",
       "      <td>11.17</td>\n",
       "      <td>6.17</td>\n",
       "      <td>11.25</td>\n",
       "      <td>NaN</td>\n",
       "      <td>8.50</td>\n",
       "      <td>7.67</td>\n",
       "      <td>12.75</td>\n",
       "      <td>12.71</td>\n",
       "    </tr>\n",
       "  </tbody>\n",
       "</table>\n",
       "</div>"
      ],
      "text/plain": [
       "    Yr_Mo_Dy    RPT    VAL    ROS    KIL    SHA   BIR    DUB    CLA    MUL  \\\n",
       "0 2061-01-01  15.04  14.96  13.17   9.29    NaN  9.87  13.67  10.25  10.83   \n",
       "1 2061-01-02  14.71    NaN  10.83   6.50  12.62  7.67  11.50  10.04   9.79   \n",
       "2 2061-01-03  18.50  16.88  12.33  10.13  11.17  6.17  11.25    NaN   8.50   \n",
       "\n",
       "     CLO    BEL    MAL  \n",
       "0  12.58  18.50  15.04  \n",
       "1   9.67  17.54  13.83  \n",
       "2   7.67  12.75  12.71  "
      ]
     },
     "execution_count": 46,
     "metadata": {},
     "output_type": "execute_result"
    }
   ],
   "source": [
    "data = pd.read_csv('wind.txt', sep='\\s+', parse_dates=[[0, 1, 2]])\n",
    "data.head()"
   ]
  },
  {
   "cell_type": "code",
   "execution_count": 47,
   "id": "156aeb4c",
   "metadata": {},
   "outputs": [
    {
     "data": {
      "text/html": [
       "<div>\n",
       "<style scoped>\n",
       "    .dataframe tbody tr th:only-of-type {\n",
       "        vertical-align: middle;\n",
       "    }\n",
       "\n",
       "    .dataframe tbody tr th {\n",
       "        vertical-align: top;\n",
       "    }\n",
       "\n",
       "    .dataframe thead th {\n",
       "        text-align: right;\n",
       "    }\n",
       "</style>\n",
       "<table border=\"1\" class=\"dataframe\">\n",
       "  <thead>\n",
       "    <tr style=\"text-align: right;\">\n",
       "      <th></th>\n",
       "      <th>RPT</th>\n",
       "      <th>VAL</th>\n",
       "      <th>ROS</th>\n",
       "      <th>KIL</th>\n",
       "      <th>SHA</th>\n",
       "      <th>BIR</th>\n",
       "      <th>DUB</th>\n",
       "      <th>CLA</th>\n",
       "      <th>MUL</th>\n",
       "      <th>CLO</th>\n",
       "      <th>BEL</th>\n",
       "      <th>MAL</th>\n",
       "    </tr>\n",
       "    <tr>\n",
       "      <th>Date</th>\n",
       "      <th></th>\n",
       "      <th></th>\n",
       "      <th></th>\n",
       "      <th></th>\n",
       "      <th></th>\n",
       "      <th></th>\n",
       "      <th></th>\n",
       "      <th></th>\n",
       "      <th></th>\n",
       "      <th></th>\n",
       "      <th></th>\n",
       "      <th></th>\n",
       "    </tr>\n",
       "  </thead>\n",
       "  <tbody>\n",
       "    <tr>\n",
       "      <th>2061-01-01</th>\n",
       "      <td>15.04</td>\n",
       "      <td>14.96</td>\n",
       "      <td>13.17</td>\n",
       "      <td>9.29</td>\n",
       "      <td>NaN</td>\n",
       "      <td>9.87</td>\n",
       "      <td>13.67</td>\n",
       "      <td>10.25</td>\n",
       "      <td>10.83</td>\n",
       "      <td>12.58</td>\n",
       "      <td>18.50</td>\n",
       "      <td>15.04</td>\n",
       "    </tr>\n",
       "    <tr>\n",
       "      <th>2061-01-02</th>\n",
       "      <td>14.71</td>\n",
       "      <td>NaN</td>\n",
       "      <td>10.83</td>\n",
       "      <td>6.50</td>\n",
       "      <td>12.62</td>\n",
       "      <td>7.67</td>\n",
       "      <td>11.50</td>\n",
       "      <td>10.04</td>\n",
       "      <td>9.79</td>\n",
       "      <td>9.67</td>\n",
       "      <td>17.54</td>\n",
       "      <td>13.83</td>\n",
       "    </tr>\n",
       "    <tr>\n",
       "      <th>2061-01-03</th>\n",
       "      <td>18.50</td>\n",
       "      <td>16.88</td>\n",
       "      <td>12.33</td>\n",
       "      <td>10.13</td>\n",
       "      <td>11.17</td>\n",
       "      <td>6.17</td>\n",
       "      <td>11.25</td>\n",
       "      <td>NaN</td>\n",
       "      <td>8.50</td>\n",
       "      <td>7.67</td>\n",
       "      <td>12.75</td>\n",
       "      <td>12.71</td>\n",
       "    </tr>\n",
       "  </tbody>\n",
       "</table>\n",
       "</div>"
      ],
      "text/plain": [
       "              RPT    VAL    ROS    KIL    SHA   BIR    DUB    CLA    MUL  \\\n",
       "Date                                                                       \n",
       "2061-01-01  15.04  14.96  13.17   9.29    NaN  9.87  13.67  10.25  10.83   \n",
       "2061-01-02  14.71    NaN  10.83   6.50  12.62  7.67  11.50  10.04   9.79   \n",
       "2061-01-03  18.50  16.88  12.33  10.13  11.17  6.17  11.25    NaN   8.50   \n",
       "\n",
       "              CLO    BEL    MAL  \n",
       "Date                             \n",
       "2061-01-01  12.58  18.50  15.04  \n",
       "2061-01-02   9.67  17.54  13.83  \n",
       "2061-01-03   7.67  12.75  12.71  "
      ]
     },
     "execution_count": 47,
     "metadata": {},
     "output_type": "execute_result"
    }
   ],
   "source": [
    "data.columns = ['Date', 'RPT', 'VAL', 'ROS', 'KIL', 'SHA', 'BIR', 'DUB', 'CLA', 'MUL', 'CLO', 'BEL', 'MAL']\n",
    "data['Date'] = pd.to_datetime(data['Date'])\n",
    "data.set_index('Date', inplace=True)\n",
    "\n",
    "data.head()"
   ]
  },
  {
   "cell_type": "code",
   "execution_count": 48,
   "id": "ef29e4a5",
   "metadata": {},
   "outputs": [
    {
     "data": {
      "text/html": [
       "<div>\n",
       "<style scoped>\n",
       "    .dataframe tbody tr th:only-of-type {\n",
       "        vertical-align: middle;\n",
       "    }\n",
       "\n",
       "    .dataframe tbody tr th {\n",
       "        vertical-align: top;\n",
       "    }\n",
       "\n",
       "    .dataframe thead th {\n",
       "        text-align: right;\n",
       "    }\n",
       "</style>\n",
       "<table border=\"1\" class=\"dataframe\">\n",
       "  <thead>\n",
       "    <tr style=\"text-align: right;\">\n",
       "      <th></th>\n",
       "      <th>RPT</th>\n",
       "      <th>VAL</th>\n",
       "      <th>ROS</th>\n",
       "      <th>KIL</th>\n",
       "      <th>SHA</th>\n",
       "      <th>BIR</th>\n",
       "      <th>DUB</th>\n",
       "      <th>CLA</th>\n",
       "      <th>MUL</th>\n",
       "      <th>CLO</th>\n",
       "      <th>BEL</th>\n",
       "      <th>MAL</th>\n",
       "    </tr>\n",
       "    <tr>\n",
       "      <th>Date</th>\n",
       "      <th></th>\n",
       "      <th></th>\n",
       "      <th></th>\n",
       "      <th></th>\n",
       "      <th></th>\n",
       "      <th></th>\n",
       "      <th></th>\n",
       "      <th></th>\n",
       "      <th></th>\n",
       "      <th></th>\n",
       "      <th></th>\n",
       "      <th></th>\n",
       "    </tr>\n",
       "  </thead>\n",
       "  <tbody>\n",
       "    <tr>\n",
       "      <th>2061-01-01</th>\n",
       "      <td>15.04</td>\n",
       "      <td>14.96</td>\n",
       "      <td>13.17</td>\n",
       "      <td>9.29</td>\n",
       "      <td>NaN</td>\n",
       "      <td>9.87</td>\n",
       "      <td>13.67</td>\n",
       "      <td>10.25</td>\n",
       "      <td>10.83</td>\n",
       "      <td>12.58</td>\n",
       "      <td>18.50</td>\n",
       "      <td>15.04</td>\n",
       "    </tr>\n",
       "    <tr>\n",
       "      <th>2061-01-02</th>\n",
       "      <td>14.71</td>\n",
       "      <td>NaN</td>\n",
       "      <td>10.83</td>\n",
       "      <td>6.50</td>\n",
       "      <td>12.62</td>\n",
       "      <td>7.67</td>\n",
       "      <td>11.50</td>\n",
       "      <td>10.04</td>\n",
       "      <td>9.79</td>\n",
       "      <td>9.67</td>\n",
       "      <td>17.54</td>\n",
       "      <td>13.83</td>\n",
       "    </tr>\n",
       "    <tr>\n",
       "      <th>2061-01-03</th>\n",
       "      <td>18.50</td>\n",
       "      <td>16.88</td>\n",
       "      <td>12.33</td>\n",
       "      <td>10.13</td>\n",
       "      <td>11.17</td>\n",
       "      <td>6.17</td>\n",
       "      <td>11.25</td>\n",
       "      <td>NaN</td>\n",
       "      <td>8.50</td>\n",
       "      <td>7.67</td>\n",
       "      <td>12.75</td>\n",
       "      <td>12.71</td>\n",
       "    </tr>\n",
       "  </tbody>\n",
       "</table>\n",
       "</div>"
      ],
      "text/plain": [
       "              RPT    VAL    ROS    KIL    SHA   BIR    DUB    CLA    MUL  \\\n",
       "Date                                                                       \n",
       "2061-01-01  15.04  14.96  13.17   9.29    NaN  9.87  13.67  10.25  10.83   \n",
       "2061-01-02  14.71    NaN  10.83   6.50  12.62  7.67  11.50  10.04   9.79   \n",
       "2061-01-03  18.50  16.88  12.33  10.13  11.17  6.17  11.25    NaN   8.50   \n",
       "\n",
       "              CLO    BEL    MAL  \n",
       "Date                             \n",
       "2061-01-01  12.58  18.50  15.04  \n",
       "2061-01-02   9.67  17.54  13.83  \n",
       "2061-01-03   7.67  12.75  12.71  "
      ]
     },
     "execution_count": 48,
     "metadata": {},
     "output_type": "execute_result"
    }
   ],
   "source": [
    "def fix_year(date):\n",
    "    if date.year > 2000:\n",
    "        print(date.year)\n",
    "        return datetime.date(date.year - 100, date.month, date.day)\n",
    "    return date\n",
    "\n",
    "data.head()"
   ]
  },
  {
   "cell_type": "code",
   "execution_count": null,
   "id": "7727bb10",
   "metadata": {},
   "outputs": [],
   "source": [
    "data.index = pd.to_datetime(data.index)"
   ]
  },
  {
   "cell_type": "code",
   "execution_count": 49,
   "id": "845e4020",
   "metadata": {},
   "outputs": [
    {
     "data": {
      "text/plain": [
       "RPT    0\n",
       "VAL    1\n",
       "ROS    0\n",
       "KIL    0\n",
       "SHA    1\n",
       "BIR    0\n",
       "DUB    0\n",
       "CLA    1\n",
       "MUL    0\n",
       "CLO    0\n",
       "BEL    0\n",
       "MAL    0\n",
       "dtype: int64"
      ]
     },
     "execution_count": 49,
     "metadata": {},
     "output_type": "execute_result"
    }
   ],
   "source": [
    "data.isnull().sum()"
   ]
  },
  {
   "cell_type": "code",
   "execution_count": 50,
   "id": "5d3d21cb",
   "metadata": {},
   "outputs": [
    {
     "name": "stdout",
     "output_type": "stream",
     "text": [
      "Total non-missing values:33\n"
     ]
    }
   ],
   "source": [
    "print(f\"Total non-missing values:{data.notnull().sum().sum()}\")"
   ]
  },
  {
   "cell_type": "code",
   "execution_count": 51,
   "id": "e1448d8f",
   "metadata": {},
   "outputs": [
    {
     "name": "stdout",
     "output_type": "stream",
     "text": [
      "Mean windspeeds for all location: 12.053333333333333\n"
     ]
    }
   ],
   "source": [
    "print(f\"Mean windspeeds for all location: { data.mean().mean()}\")"
   ]
  },
  {
   "cell_type": "code",
   "execution_count": 52,
   "id": "690e9bf9",
   "metadata": {},
   "outputs": [
    {
     "data": {
      "text/html": [
       "<div>\n",
       "<style scoped>\n",
       "    .dataframe tbody tr th:only-of-type {\n",
       "        vertical-align: middle;\n",
       "    }\n",
       "\n",
       "    .dataframe tbody tr th {\n",
       "        vertical-align: top;\n",
       "    }\n",
       "\n",
       "    .dataframe thead th {\n",
       "        text-align: right;\n",
       "    }\n",
       "</style>\n",
       "<table border=\"1\" class=\"dataframe\">\n",
       "  <thead>\n",
       "    <tr style=\"text-align: right;\">\n",
       "      <th></th>\n",
       "      <th>RPT</th>\n",
       "      <th>VAL</th>\n",
       "      <th>ROS</th>\n",
       "      <th>KIL</th>\n",
       "      <th>SHA</th>\n",
       "      <th>BIR</th>\n",
       "      <th>DUB</th>\n",
       "      <th>CLA</th>\n",
       "      <th>MUL</th>\n",
       "      <th>CLO</th>\n",
       "      <th>BEL</th>\n",
       "      <th>MAL</th>\n",
       "    </tr>\n",
       "  </thead>\n",
       "  <tbody>\n",
       "    <tr>\n",
       "      <th>min</th>\n",
       "      <td>14.710000</td>\n",
       "      <td>14.960000</td>\n",
       "      <td>10.830000</td>\n",
       "      <td>6.500000</td>\n",
       "      <td>11.170000</td>\n",
       "      <td>6.170000</td>\n",
       "      <td>11.250000</td>\n",
       "      <td>10.040000</td>\n",
       "      <td>8.500000</td>\n",
       "      <td>7.670000</td>\n",
       "      <td>12.750000</td>\n",
       "      <td>12.71000</td>\n",
       "    </tr>\n",
       "    <tr>\n",
       "      <th>max</th>\n",
       "      <td>18.500000</td>\n",
       "      <td>16.880000</td>\n",
       "      <td>13.170000</td>\n",
       "      <td>10.130000</td>\n",
       "      <td>12.620000</td>\n",
       "      <td>9.870000</td>\n",
       "      <td>13.670000</td>\n",
       "      <td>10.250000</td>\n",
       "      <td>10.830000</td>\n",
       "      <td>12.580000</td>\n",
       "      <td>18.500000</td>\n",
       "      <td>15.04000</td>\n",
       "    </tr>\n",
       "    <tr>\n",
       "      <th>mean</th>\n",
       "      <td>16.083333</td>\n",
       "      <td>15.920000</td>\n",
       "      <td>12.110000</td>\n",
       "      <td>8.640000</td>\n",
       "      <td>11.895000</td>\n",
       "      <td>7.903333</td>\n",
       "      <td>12.140000</td>\n",
       "      <td>10.145000</td>\n",
       "      <td>9.706667</td>\n",
       "      <td>9.973333</td>\n",
       "      <td>16.263333</td>\n",
       "      <td>13.86000</td>\n",
       "    </tr>\n",
       "    <tr>\n",
       "      <th>std</th>\n",
       "      <td>2.099389</td>\n",
       "      <td>1.357645</td>\n",
       "      <td>1.185411</td>\n",
       "      <td>1.900289</td>\n",
       "      <td>1.025305</td>\n",
       "      <td>1.861003</td>\n",
       "      <td>1.330902</td>\n",
       "      <td>0.148492</td>\n",
       "      <td>1.167233</td>\n",
       "      <td>2.469015</td>\n",
       "      <td>3.080265</td>\n",
       "      <td>1.16529</td>\n",
       "    </tr>\n",
       "  </tbody>\n",
       "</table>\n",
       "</div>"
      ],
      "text/plain": [
       "            RPT        VAL        ROS        KIL        SHA       BIR  \\\n",
       "min   14.710000  14.960000  10.830000   6.500000  11.170000  6.170000   \n",
       "max   18.500000  16.880000  13.170000  10.130000  12.620000  9.870000   \n",
       "mean  16.083333  15.920000  12.110000   8.640000  11.895000  7.903333   \n",
       "std    2.099389   1.357645   1.185411   1.900289   1.025305  1.861003   \n",
       "\n",
       "            DUB        CLA        MUL        CLO        BEL       MAL  \n",
       "min   11.250000  10.040000   8.500000   7.670000  12.750000  12.71000  \n",
       "max   13.670000  10.250000  10.830000  12.580000  18.500000  15.04000  \n",
       "mean  12.140000  10.145000   9.706667   9.973333  16.263333  13.86000  \n",
       "std    1.330902   0.148492   1.167233   2.469015   3.080265   1.16529  "
      ]
     },
     "execution_count": 52,
     "metadata": {},
     "output_type": "execute_result"
    }
   ],
   "source": [
    "data.agg(['min', 'max', 'mean', 'std'])"
   ]
  },
  {
   "cell_type": "code",
   "execution_count": 53,
   "id": "b3cb9f16",
   "metadata": {},
   "outputs": [
    {
     "name": "stdout",
     "output_type": "stream",
     "text": [
      "Date  2061-01-01  2061-01-02  2061-01-03\n",
      "min     9.290000    6.500000    6.170000\n",
      "max    18.500000   17.540000   18.500000\n",
      "mean   13.018182   11.336364   11.641818\n",
      "std     2.808875    3.188994    3.681912\n"
     ]
    }
   ],
   "source": [
    "day_stats = data.T.agg(['min', 'max', 'mean', 'std'])\n",
    "print(day_stats)"
   ]
  },
  {
   "cell_type": "code",
   "execution_count": 54,
   "id": "6529fddb",
   "metadata": {},
   "outputs": [
    {
     "data": {
      "text/plain": [
       "RPT    16.083333\n",
       "VAL    15.920000\n",
       "ROS    12.110000\n",
       "KIL     8.640000\n",
       "SHA    11.895000\n",
       "BIR     7.903333\n",
       "DUB    12.140000\n",
       "CLA    10.145000\n",
       "MUL     9.706667\n",
       "CLO     9.973333\n",
       "BEL    16.263333\n",
       "MAL    13.860000\n",
       "dtype: float64"
      ]
     },
     "execution_count": 54,
     "metadata": {},
     "output_type": "execute_result"
    }
   ],
   "source": [
    "data[data.index.month == 1].mean()"
   ]
  },
  {
   "cell_type": "code",
   "execution_count": 55,
   "id": "1e908b96",
   "metadata": {},
   "outputs": [
    {
     "data": {
      "text/html": [
       "<div>\n",
       "<style scoped>\n",
       "    .dataframe tbody tr th:only-of-type {\n",
       "        vertical-align: middle;\n",
       "    }\n",
       "\n",
       "    .dataframe tbody tr th {\n",
       "        vertical-align: top;\n",
       "    }\n",
       "\n",
       "    .dataframe thead th {\n",
       "        text-align: right;\n",
       "    }\n",
       "</style>\n",
       "<table border=\"1\" class=\"dataframe\">\n",
       "  <thead>\n",
       "    <tr style=\"text-align: right;\">\n",
       "      <th></th>\n",
       "      <th>RPT</th>\n",
       "      <th>VAL</th>\n",
       "      <th>ROS</th>\n",
       "      <th>KIL</th>\n",
       "      <th>SHA</th>\n",
       "      <th>BIR</th>\n",
       "      <th>DUB</th>\n",
       "      <th>CLA</th>\n",
       "      <th>MUL</th>\n",
       "      <th>CLO</th>\n",
       "      <th>BEL</th>\n",
       "      <th>MAL</th>\n",
       "    </tr>\n",
       "    <tr>\n",
       "      <th>Date</th>\n",
       "      <th></th>\n",
       "      <th></th>\n",
       "      <th></th>\n",
       "      <th></th>\n",
       "      <th></th>\n",
       "      <th></th>\n",
       "      <th></th>\n",
       "      <th></th>\n",
       "      <th></th>\n",
       "      <th></th>\n",
       "      <th></th>\n",
       "      <th></th>\n",
       "    </tr>\n",
       "  </thead>\n",
       "  <tbody>\n",
       "    <tr>\n",
       "      <th>2061-12-31</th>\n",
       "      <td>16.083333</td>\n",
       "      <td>15.92</td>\n",
       "      <td>12.11</td>\n",
       "      <td>8.64</td>\n",
       "      <td>11.895</td>\n",
       "      <td>7.903333</td>\n",
       "      <td>12.14</td>\n",
       "      <td>10.145</td>\n",
       "      <td>9.706667</td>\n",
       "      <td>9.973333</td>\n",
       "      <td>16.263333</td>\n",
       "      <td>13.86</td>\n",
       "    </tr>\n",
       "  </tbody>\n",
       "</table>\n",
       "</div>"
      ],
      "text/plain": [
       "                  RPT    VAL    ROS   KIL     SHA       BIR    DUB     CLA  \\\n",
       "Date                                                                         \n",
       "2061-12-31  16.083333  15.92  12.11  8.64  11.895  7.903333  12.14  10.145   \n",
       "\n",
       "                 MUL       CLO        BEL    MAL  \n",
       "Date                                              \n",
       "2061-12-31  9.706667  9.973333  16.263333  13.86  "
      ]
     },
     "execution_count": 55,
     "metadata": {},
     "output_type": "execute_result"
    }
   ],
   "source": [
    "data.resample('Y').mean()"
   ]
  },
  {
   "cell_type": "code",
   "execution_count": 57,
   "id": "9f84695d",
   "metadata": {},
   "outputs": [
    {
     "data": {
      "text/html": [
       "<div>\n",
       "<style scoped>\n",
       "    .dataframe tbody tr th:only-of-type {\n",
       "        vertical-align: middle;\n",
       "    }\n",
       "\n",
       "    .dataframe tbody tr th {\n",
       "        vertical-align: top;\n",
       "    }\n",
       "\n",
       "    .dataframe thead th {\n",
       "        text-align: right;\n",
       "    }\n",
       "</style>\n",
       "<table border=\"1\" class=\"dataframe\">\n",
       "  <thead>\n",
       "    <tr style=\"text-align: right;\">\n",
       "      <th></th>\n",
       "      <th>RPT</th>\n",
       "      <th>VAL</th>\n",
       "      <th>ROS</th>\n",
       "      <th>KIL</th>\n",
       "      <th>SHA</th>\n",
       "      <th>BIR</th>\n",
       "      <th>DUB</th>\n",
       "      <th>CLA</th>\n",
       "      <th>MUL</th>\n",
       "      <th>CLO</th>\n",
       "      <th>BEL</th>\n",
       "      <th>MAL</th>\n",
       "    </tr>\n",
       "    <tr>\n",
       "      <th>Date</th>\n",
       "      <th></th>\n",
       "      <th></th>\n",
       "      <th></th>\n",
       "      <th></th>\n",
       "      <th></th>\n",
       "      <th></th>\n",
       "      <th></th>\n",
       "      <th></th>\n",
       "      <th></th>\n",
       "      <th></th>\n",
       "      <th></th>\n",
       "      <th></th>\n",
       "    </tr>\n",
       "  </thead>\n",
       "  <tbody>\n",
       "    <tr>\n",
       "      <th>2061-01-31</th>\n",
       "      <td>16.083333</td>\n",
       "      <td>15.92</td>\n",
       "      <td>12.11</td>\n",
       "      <td>8.64</td>\n",
       "      <td>11.895</td>\n",
       "      <td>7.903333</td>\n",
       "      <td>12.14</td>\n",
       "      <td>10.145</td>\n",
       "      <td>9.706667</td>\n",
       "      <td>9.973333</td>\n",
       "      <td>16.263333</td>\n",
       "      <td>13.86</td>\n",
       "    </tr>\n",
       "  </tbody>\n",
       "</table>\n",
       "</div>"
      ],
      "text/plain": [
       "                  RPT    VAL    ROS   KIL     SHA       BIR    DUB     CLA  \\\n",
       "Date                                                                         \n",
       "2061-01-31  16.083333  15.92  12.11  8.64  11.895  7.903333  12.14  10.145   \n",
       "\n",
       "                 MUL       CLO        BEL    MAL  \n",
       "Date                                              \n",
       "2061-01-31  9.706667  9.973333  16.263333  13.86  "
      ]
     },
     "execution_count": 57,
     "metadata": {},
     "output_type": "execute_result"
    }
   ],
   "source": [
    "data.resample('M').mean()"
   ]
  },
  {
   "cell_type": "code",
   "execution_count": 58,
   "id": "11b09179",
   "metadata": {},
   "outputs": [
    {
     "data": {
      "text/html": [
       "<div>\n",
       "<style scoped>\n",
       "    .dataframe tbody tr th:only-of-type {\n",
       "        vertical-align: middle;\n",
       "    }\n",
       "\n",
       "    .dataframe tbody tr th {\n",
       "        vertical-align: top;\n",
       "    }\n",
       "\n",
       "    .dataframe thead th {\n",
       "        text-align: right;\n",
       "    }\n",
       "</style>\n",
       "<table border=\"1\" class=\"dataframe\">\n",
       "  <thead>\n",
       "    <tr style=\"text-align: right;\">\n",
       "      <th></th>\n",
       "      <th>RPT</th>\n",
       "      <th>VAL</th>\n",
       "      <th>ROS</th>\n",
       "      <th>KIL</th>\n",
       "      <th>SHA</th>\n",
       "      <th>BIR</th>\n",
       "      <th>DUB</th>\n",
       "      <th>CLA</th>\n",
       "      <th>MUL</th>\n",
       "      <th>CLO</th>\n",
       "      <th>BEL</th>\n",
       "      <th>MAL</th>\n",
       "    </tr>\n",
       "    <tr>\n",
       "      <th>Date</th>\n",
       "      <th></th>\n",
       "      <th></th>\n",
       "      <th></th>\n",
       "      <th></th>\n",
       "      <th></th>\n",
       "      <th></th>\n",
       "      <th></th>\n",
       "      <th></th>\n",
       "      <th></th>\n",
       "      <th></th>\n",
       "      <th></th>\n",
       "      <th></th>\n",
       "    </tr>\n",
       "  </thead>\n",
       "  <tbody>\n",
       "    <tr>\n",
       "      <th>2061-01-02</th>\n",
       "      <td>14.875</td>\n",
       "      <td>14.96</td>\n",
       "      <td>12.00</td>\n",
       "      <td>7.895</td>\n",
       "      <td>12.62</td>\n",
       "      <td>8.77</td>\n",
       "      <td>12.585</td>\n",
       "      <td>10.145</td>\n",
       "      <td>10.31</td>\n",
       "      <td>11.125</td>\n",
       "      <td>18.02</td>\n",
       "      <td>14.435</td>\n",
       "    </tr>\n",
       "    <tr>\n",
       "      <th>2061-01-09</th>\n",
       "      <td>18.500</td>\n",
       "      <td>16.88</td>\n",
       "      <td>12.33</td>\n",
       "      <td>10.130</td>\n",
       "      <td>11.17</td>\n",
       "      <td>6.17</td>\n",
       "      <td>11.250</td>\n",
       "      <td>NaN</td>\n",
       "      <td>8.50</td>\n",
       "      <td>7.670</td>\n",
       "      <td>12.75</td>\n",
       "      <td>12.710</td>\n",
       "    </tr>\n",
       "  </tbody>\n",
       "</table>\n",
       "</div>"
      ],
      "text/plain": [
       "               RPT    VAL    ROS     KIL    SHA   BIR     DUB     CLA    MUL  \\\n",
       "Date                                                                           \n",
       "2061-01-02  14.875  14.96  12.00   7.895  12.62  8.77  12.585  10.145  10.31   \n",
       "2061-01-09  18.500  16.88  12.33  10.130  11.17  6.17  11.250     NaN   8.50   \n",
       "\n",
       "               CLO    BEL     MAL  \n",
       "Date                               \n",
       "2061-01-02  11.125  18.02  14.435  \n",
       "2061-01-09   7.670  12.75  12.710  "
      ]
     },
     "execution_count": 58,
     "metadata": {},
     "output_type": "execute_result"
    }
   ],
   "source": [
    "data.resample('W').mean()"
   ]
  },
  {
   "cell_type": "code",
   "execution_count": 60,
   "id": "94e37a23",
   "metadata": {},
   "outputs": [
    {
     "data": {
      "text/html": [
       "<div>\n",
       "<style scoped>\n",
       "    .dataframe tbody tr th:only-of-type {\n",
       "        vertical-align: middle;\n",
       "    }\n",
       "\n",
       "    .dataframe tbody tr th {\n",
       "        vertical-align: top;\n",
       "    }\n",
       "\n",
       "    .dataframe thead tr th {\n",
       "        text-align: left;\n",
       "    }\n",
       "\n",
       "    .dataframe thead tr:last-of-type th {\n",
       "        text-align: right;\n",
       "    }\n",
       "</style>\n",
       "<table border=\"1\" class=\"dataframe\">\n",
       "  <thead>\n",
       "    <tr>\n",
       "      <th></th>\n",
       "      <th colspan=\"4\" halign=\"left\">RPT</th>\n",
       "      <th colspan=\"4\" halign=\"left\">VAL</th>\n",
       "      <th colspan=\"2\" halign=\"left\">ROS</th>\n",
       "      <th>...</th>\n",
       "      <th colspan=\"2\" halign=\"left\">CLO</th>\n",
       "      <th colspan=\"4\" halign=\"left\">BEL</th>\n",
       "      <th colspan=\"4\" halign=\"left\">MAL</th>\n",
       "    </tr>\n",
       "    <tr>\n",
       "      <th></th>\n",
       "      <th>min</th>\n",
       "      <th>max</th>\n",
       "      <th>mean</th>\n",
       "      <th>std</th>\n",
       "      <th>min</th>\n",
       "      <th>max</th>\n",
       "      <th>mean</th>\n",
       "      <th>std</th>\n",
       "      <th>min</th>\n",
       "      <th>max</th>\n",
       "      <th>...</th>\n",
       "      <th>mean</th>\n",
       "      <th>std</th>\n",
       "      <th>min</th>\n",
       "      <th>max</th>\n",
       "      <th>mean</th>\n",
       "      <th>std</th>\n",
       "      <th>min</th>\n",
       "      <th>max</th>\n",
       "      <th>mean</th>\n",
       "      <th>std</th>\n",
       "    </tr>\n",
       "    <tr>\n",
       "      <th>Date</th>\n",
       "      <th></th>\n",
       "      <th></th>\n",
       "      <th></th>\n",
       "      <th></th>\n",
       "      <th></th>\n",
       "      <th></th>\n",
       "      <th></th>\n",
       "      <th></th>\n",
       "      <th></th>\n",
       "      <th></th>\n",
       "      <th></th>\n",
       "      <th></th>\n",
       "      <th></th>\n",
       "      <th></th>\n",
       "      <th></th>\n",
       "      <th></th>\n",
       "      <th></th>\n",
       "      <th></th>\n",
       "      <th></th>\n",
       "      <th></th>\n",
       "      <th></th>\n",
       "    </tr>\n",
       "  </thead>\n",
       "  <tbody>\n",
       "    <tr>\n",
       "      <th>2061-01-09</th>\n",
       "      <td>18.5</td>\n",
       "      <td>18.5</td>\n",
       "      <td>18.5</td>\n",
       "      <td>NaN</td>\n",
       "      <td>16.88</td>\n",
       "      <td>16.88</td>\n",
       "      <td>16.88</td>\n",
       "      <td>NaN</td>\n",
       "      <td>12.33</td>\n",
       "      <td>12.33</td>\n",
       "      <td>...</td>\n",
       "      <td>7.67</td>\n",
       "      <td>NaN</td>\n",
       "      <td>12.75</td>\n",
       "      <td>12.75</td>\n",
       "      <td>12.75</td>\n",
       "      <td>NaN</td>\n",
       "      <td>12.71</td>\n",
       "      <td>12.71</td>\n",
       "      <td>12.71</td>\n",
       "      <td>NaN</td>\n",
       "    </tr>\n",
       "  </tbody>\n",
       "</table>\n",
       "<p>1 rows × 48 columns</p>\n",
       "</div>"
      ],
      "text/plain": [
       "             RPT                    VAL                      ROS         ...  \\\n",
       "             min   max  mean std    min    max   mean std    min    max  ...   \n",
       "Date                                                                     ...   \n",
       "2061-01-09  18.5  18.5  18.5 NaN  16.88  16.88  16.88 NaN  12.33  12.33  ...   \n",
       "\n",
       "             CLO        BEL                      MAL                    \n",
       "            mean std    min    max   mean std    min    max   mean std  \n",
       "Date                                                                    \n",
       "2061-01-09  7.67 NaN  12.75  12.75  12.75 NaN  12.71  12.71  12.71 NaN  \n",
       "\n",
       "[1 rows x 48 columns]"
      ]
     },
     "execution_count": 60,
     "metadata": {},
     "output_type": "execute_result"
    }
   ],
   "source": [
    "data.resample('W').agg(['min', 'max', 'mean', 'std']).iloc[1:53]"
   ]
  },
  {
   "cell_type": "markdown",
   "id": "1a452b45",
   "metadata": {},
   "source": [
    "# Question 5"
   ]
  },
  {
   "cell_type": "markdown",
   "id": "c756ed49",
   "metadata": {},
   "source": [
    "Step 1. Import the necessary libraries<br>\n",
    "Step 2. Import the dataset from this address.<br>\n",
    "Step 3. Assign it to a variable called chipo. <br>\n",
    "Step 4. See the first 10 entries<br>\n",
    "Step 5. What is the number of observations in the dataset? <br>\n",
    "Step 6. What is the number of columns in the dataset?<br>\n",
    "Step 7. Print the name of all the columns. <br>\n",
    "Step 8. How is the dataset indexed?<br>\n",
    "Step 9. Which was the most-ordered item?<br>\n",
    "Step 10. For the most-ordered item, how many items were ordered?<br>\n",
    "Step 11. What was the most ordered item in the choice_description column? <br>\n",
    "Step 12. How many items were orderd in total?<br>\n",
    "Step 13.<br>\n",
    "• Turn the item price into a float<br>\n",
    "• Check the item price type<br>\n",
    "• Create a lambda function and change the type of item price<br>\n",
    "• Check the item price type<br>\n",
    "Step 14. How much was the revenue for the period in the dataset? <br>\n",
    "Step 15. How many orders were made in the period?<br>\n",
    "Step 16. What is the average revenue amount per order?<br> \n",
    "Step 17. How many different items are sold?<br>"
   ]
  },
  {
   "cell_type": "markdown",
   "id": "a72f579b",
   "metadata": {},
   "source": [
    "1.  Import the necessary libraries"
   ]
  },
  {
   "cell_type": "code",
   "execution_count": 33,
   "id": "c9a171ff",
   "metadata": {},
   "outputs": [],
   "source": [
    "import pandas as pd"
   ]
  },
  {
   "cell_type": "markdown",
   "id": "f97782bc",
   "metadata": {},
   "source": [
    "2. Import the dataset from this address\n",
    "3. Assign it to a variable called chipo.\n",
    "4. See the first 10 entries"
   ]
  },
  {
   "cell_type": "code",
   "execution_count": 66,
   "id": "44449f9a",
   "metadata": {},
   "outputs": [
    {
     "data": {
      "text/html": [
       "<div>\n",
       "<style scoped>\n",
       "    .dataframe tbody tr th:only-of-type {\n",
       "        vertical-align: middle;\n",
       "    }\n",
       "\n",
       "    .dataframe tbody tr th {\n",
       "        vertical-align: top;\n",
       "    }\n",
       "\n",
       "    .dataframe thead th {\n",
       "        text-align: right;\n",
       "    }\n",
       "</style>\n",
       "<table border=\"1\" class=\"dataframe\">\n",
       "  <thead>\n",
       "    <tr style=\"text-align: right;\">\n",
       "      <th></th>\n",
       "      <th>order_id</th>\n",
       "      <th>quantity</th>\n",
       "      <th>item_name</th>\n",
       "      <th>choice_description</th>\n",
       "      <th>item_price</th>\n",
       "    </tr>\n",
       "  </thead>\n",
       "  <tbody>\n",
       "    <tr>\n",
       "      <th>0</th>\n",
       "      <td>1</td>\n",
       "      <td>1</td>\n",
       "      <td>Chips and Fresh Tomato Salsa</td>\n",
       "      <td>NaN</td>\n",
       "      <td>$2.39</td>\n",
       "    </tr>\n",
       "    <tr>\n",
       "      <th>1</th>\n",
       "      <td>1</td>\n",
       "      <td>1</td>\n",
       "      <td>Izze</td>\n",
       "      <td>[Clementine]</td>\n",
       "      <td>$3.39</td>\n",
       "    </tr>\n",
       "    <tr>\n",
       "      <th>2</th>\n",
       "      <td>1</td>\n",
       "      <td>1</td>\n",
       "      <td>Nantucket Nectar</td>\n",
       "      <td>[Apple]</td>\n",
       "      <td>$3.39</td>\n",
       "    </tr>\n",
       "    <tr>\n",
       "      <th>3</th>\n",
       "      <td>1</td>\n",
       "      <td>1</td>\n",
       "      <td>Chips and Tomatillo-Green Chili Salsa</td>\n",
       "      <td>NaN</td>\n",
       "      <td>$2.39</td>\n",
       "    </tr>\n",
       "    <tr>\n",
       "      <th>4</th>\n",
       "      <td>2</td>\n",
       "      <td>2</td>\n",
       "      <td>Chicken Bowl</td>\n",
       "      <td>[Tomatillo-Red Chili Salsa (Hot), [Black Beans...</td>\n",
       "      <td>$16.98</td>\n",
       "    </tr>\n",
       "    <tr>\n",
       "      <th>5</th>\n",
       "      <td>3</td>\n",
       "      <td>1</td>\n",
       "      <td>Chicken Bowl</td>\n",
       "      <td>[Fresh Tomato Salsa (Mild), [Rice, Cheese, Sou...</td>\n",
       "      <td>$10.98</td>\n",
       "    </tr>\n",
       "    <tr>\n",
       "      <th>6</th>\n",
       "      <td>3</td>\n",
       "      <td>1</td>\n",
       "      <td>Side of Chips</td>\n",
       "      <td>NaN</td>\n",
       "      <td>$1.69</td>\n",
       "    </tr>\n",
       "    <tr>\n",
       "      <th>7</th>\n",
       "      <td>4</td>\n",
       "      <td>1</td>\n",
       "      <td>Steak Burrito</td>\n",
       "      <td>[Tomatillo Red Chili Salsa, [Fajita Vegetables...</td>\n",
       "      <td>$11.75</td>\n",
       "    </tr>\n",
       "    <tr>\n",
       "      <th>8</th>\n",
       "      <td>4</td>\n",
       "      <td>1</td>\n",
       "      <td>Steak Soft Tacos</td>\n",
       "      <td>[Tomatillo Green Chili Salsa, [Pinto Beans, Ch...</td>\n",
       "      <td>$9.25</td>\n",
       "    </tr>\n",
       "    <tr>\n",
       "      <th>9</th>\n",
       "      <td>5</td>\n",
       "      <td>1</td>\n",
       "      <td>Steak Burrito</td>\n",
       "      <td>[Fresh Tomato Salsa, [Rice, Black Beans, Pinto...</td>\n",
       "      <td>$9.25</td>\n",
       "    </tr>\n",
       "  </tbody>\n",
       "</table>\n",
       "</div>"
      ],
      "text/plain": [
       "   order_id  quantity                              item_name  \\\n",
       "0         1         1           Chips and Fresh Tomato Salsa   \n",
       "1         1         1                                   Izze   \n",
       "2         1         1                       Nantucket Nectar   \n",
       "3         1         1  Chips and Tomatillo-Green Chili Salsa   \n",
       "4         2         2                           Chicken Bowl   \n",
       "5         3         1                           Chicken Bowl   \n",
       "6         3         1                          Side of Chips   \n",
       "7         4         1                          Steak Burrito   \n",
       "8         4         1                       Steak Soft Tacos   \n",
       "9         5         1                          Steak Burrito   \n",
       "\n",
       "                                  choice_description item_price  \n",
       "0                                                NaN     $2.39   \n",
       "1                                       [Clementine]     $3.39   \n",
       "2                                            [Apple]     $3.39   \n",
       "3                                                NaN     $2.39   \n",
       "4  [Tomatillo-Red Chili Salsa (Hot), [Black Beans...    $16.98   \n",
       "5  [Fresh Tomato Salsa (Mild), [Rice, Cheese, Sou...    $10.98   \n",
       "6                                                NaN     $1.69   \n",
       "7  [Tomatillo Red Chili Salsa, [Fajita Vegetables...    $11.75   \n",
       "8  [Tomatillo Green Chili Salsa, [Pinto Beans, Ch...     $9.25   \n",
       "9  [Fresh Tomato Salsa, [Rice, Black Beans, Pinto...     $9.25   "
      ]
     },
     "execution_count": 66,
     "metadata": {},
     "output_type": "execute_result"
    }
   ],
   "source": [
    "url = \"https://raw.githubusercontent.com/justmarkham/DAT8/master/data/chipotle.tsv\"\n",
    "\n",
    "chip = pd.read_csv(url, sep='\\t')\n",
    "chip.head()\n",
    "chip.head(10)"
   ]
  },
  {
   "cell_type": "markdown",
   "id": "b3c63410",
   "metadata": {},
   "source": [
    "5. What is the number of observations in the dataset?"
   ]
  },
  {
   "cell_type": "code",
   "execution_count": 36,
   "id": "a4ff656c",
   "metadata": {},
   "outputs": [
    {
     "data": {
      "text/plain": [
       "4622"
      ]
     },
     "execution_count": 36,
     "metadata": {},
     "output_type": "execute_result"
    }
   ],
   "source": [
    "chip.shape[0]"
   ]
  },
  {
   "cell_type": "markdown",
   "id": "31a6370b",
   "metadata": {},
   "source": [
    "6. What is the number of columns in the dataset?"
   ]
  },
  {
   "cell_type": "code",
   "execution_count": 67,
   "id": "ba200384",
   "metadata": {},
   "outputs": [
    {
     "data": {
      "text/plain": [
       "5"
      ]
     },
     "execution_count": 67,
     "metadata": {},
     "output_type": "execute_result"
    }
   ],
   "source": [
    "chip.shape[1]"
   ]
  },
  {
   "cell_type": "markdown",
   "id": "7a89ce17",
   "metadata": {},
   "source": [
    "7. Print the name of all the columns."
   ]
  },
  {
   "cell_type": "code",
   "execution_count": 68,
   "id": "d33e0e30",
   "metadata": {},
   "outputs": [
    {
     "data": {
      "text/plain": [
       "Index(['order_id', 'quantity', 'item_name', 'choice_description',\n",
       "       'item_price'],\n",
       "      dtype='object')"
      ]
     },
     "execution_count": 68,
     "metadata": {},
     "output_type": "execute_result"
    }
   ],
   "source": [
    "chip.columns"
   ]
  },
  {
   "cell_type": "markdown",
   "id": "0b5be9be",
   "metadata": {},
   "source": [
    "8. How is the dataset indexed?"
   ]
  },
  {
   "cell_type": "code",
   "execution_count": 69,
   "id": "067eefb5",
   "metadata": {},
   "outputs": [
    {
     "data": {
      "text/plain": [
       "RangeIndex(start=0, stop=4622, step=1)"
      ]
     },
     "execution_count": 69,
     "metadata": {},
     "output_type": "execute_result"
    }
   ],
   "source": [
    "chip.index"
   ]
  },
  {
   "cell_type": "markdown",
   "id": "d2f84ae4",
   "metadata": {},
   "source": [
    "9. Which was the most-ordered item?"
   ]
  },
  {
   "cell_type": "code",
   "execution_count": 74,
   "id": "28a1062c",
   "metadata": {},
   "outputs": [
    {
     "data": {
      "text/html": [
       "<div>\n",
       "<style scoped>\n",
       "    .dataframe tbody tr th:only-of-type {\n",
       "        vertical-align: middle;\n",
       "    }\n",
       "\n",
       "    .dataframe tbody tr th {\n",
       "        vertical-align: top;\n",
       "    }\n",
       "\n",
       "    .dataframe thead th {\n",
       "        text-align: right;\n",
       "    }\n",
       "</style>\n",
       "<table border=\"1\" class=\"dataframe\">\n",
       "  <thead>\n",
       "    <tr style=\"text-align: right;\">\n",
       "      <th></th>\n",
       "      <th>order_id</th>\n",
       "      <th>quantity</th>\n",
       "    </tr>\n",
       "    <tr>\n",
       "      <th>item_name</th>\n",
       "      <th></th>\n",
       "      <th></th>\n",
       "    </tr>\n",
       "  </thead>\n",
       "  <tbody>\n",
       "    <tr>\n",
       "      <th>Chicken Bowl</th>\n",
       "      <td>713926</td>\n",
       "      <td>761</td>\n",
       "    </tr>\n",
       "  </tbody>\n",
       "</table>\n",
       "</div>"
      ],
      "text/plain": [
       "              order_id  quantity\n",
       "item_name                       \n",
       "Chicken Bowl    713926       761"
      ]
     },
     "execution_count": 74,
     "metadata": {},
     "output_type": "execute_result"
    }
   ],
   "source": [
    "chip.groupby('item_name').sum().sort_values('quantity', ascending=False).head(1)"
   ]
  },
  {
   "cell_type": "markdown",
   "id": "07e43fa1",
   "metadata": {},
   "source": [
    "10. For the most-ordered item, how many items were ordered?"
   ]
  },
  {
   "cell_type": "code",
   "execution_count": 75,
   "id": "695daadf",
   "metadata": {},
   "outputs": [
    {
     "name": "stdout",
     "output_type": "stream",
     "text": [
      "Number of most item ordered: 761\n"
     ]
    }
   ],
   "source": [
    "most_ordered_count = chip.groupby('item_name').quantity.sum().max()\n",
    "print(f\"Number of most item ordered: {most_ordered_count}\")"
   ]
  },
  {
   "cell_type": "markdown",
   "id": "a9d17bbc",
   "metadata": {},
   "source": [
    "11. What was the most ordered item in the choice_description column?"
   ]
  },
  {
   "cell_type": "code",
   "execution_count": 76,
   "id": "afdd6ce9",
   "metadata": {},
   "outputs": [
    {
     "data": {
      "text/html": [
       "<div>\n",
       "<style scoped>\n",
       "    .dataframe tbody tr th:only-of-type {\n",
       "        vertical-align: middle;\n",
       "    }\n",
       "\n",
       "    .dataframe tbody tr th {\n",
       "        vertical-align: top;\n",
       "    }\n",
       "\n",
       "    .dataframe thead th {\n",
       "        text-align: right;\n",
       "    }\n",
       "</style>\n",
       "<table border=\"1\" class=\"dataframe\">\n",
       "  <thead>\n",
       "    <tr style=\"text-align: right;\">\n",
       "      <th></th>\n",
       "      <th>order_id</th>\n",
       "      <th>quantity</th>\n",
       "    </tr>\n",
       "    <tr>\n",
       "      <th>choice_description</th>\n",
       "      <th></th>\n",
       "      <th></th>\n",
       "    </tr>\n",
       "  </thead>\n",
       "  <tbody>\n",
       "    <tr>\n",
       "      <th>[Diet Coke]</th>\n",
       "      <td>123455</td>\n",
       "      <td>159</td>\n",
       "    </tr>\n",
       "  </tbody>\n",
       "</table>\n",
       "</div>"
      ],
      "text/plain": [
       "                    order_id  quantity\n",
       "choice_description                    \n",
       "[Diet Coke]           123455       159"
      ]
     },
     "execution_count": 76,
     "metadata": {},
     "output_type": "execute_result"
    }
   ],
   "source": [
    "chip.groupby('choice_description').sum().sort_values('quantity', ascending=False).head(1)"
   ]
  },
  {
   "cell_type": "markdown",
   "id": "fd4a87ec",
   "metadata": {},
   "source": [
    "12. How many items were orderd in total?"
   ]
  },
  {
   "cell_type": "code",
   "execution_count": 77,
   "id": "5dba9915",
   "metadata": {},
   "outputs": [
    {
     "name": "stdout",
     "output_type": "stream",
     "text": [
      "Total items were ordered: 4972\n"
     ]
    }
   ],
   "source": [
    "total_items = chip.quantity.sum()\n",
    "print(f\"Total items were ordered: {total_items}\")"
   ]
  },
  {
   "cell_type": "markdown",
   "id": "2012d7cf",
   "metadata": {},
   "source": [
    "13.Turn the item price into a float<br>\n",
    "Check the item price type<br>\n",
    "Create a lambda function and change the type of item price<br>\n",
    "Check the item price type<br>"
   ]
  },
  {
   "cell_type": "code",
   "execution_count": 78,
   "id": "af4b5a08",
   "metadata": {},
   "outputs": [
    {
     "name": "stdout",
     "output_type": "stream",
     "text": [
      "float64\n"
     ]
    }
   ],
   "source": [
    "chip['item_price'] = chip['item_price'].apply(lambda x: float(x[1:]))\n",
    "print(chip['item_price'].dtype)"
   ]
  },
  {
   "cell_type": "markdown",
   "id": "2170786d",
   "metadata": {},
   "source": [
    "14. How much was the revenue for the period in the dataset?"
   ]
  },
  {
   "cell_type": "code",
   "execution_count": 79,
   "id": "7ea43dc4",
   "metadata": {},
   "outputs": [
    {
     "name": "stdout",
     "output_type": "stream",
     "text": [
      "Total revenue: 39237.02\n"
     ]
    }
   ],
   "source": [
    "revenue = (chip['quantity'] * chip['item_price']).sum()\n",
    "print(f\"Total revenue: {revenue}\")"
   ]
  },
  {
   "cell_type": "markdown",
   "id": "5d71c8bc",
   "metadata": {},
   "source": [
    "15. How many orders were made in the period?"
   ]
  },
  {
   "cell_type": "code",
   "execution_count": 80,
   "id": "3a63bdf6",
   "metadata": {},
   "outputs": [
    {
     "name": "stdout",
     "output_type": "stream",
     "text": [
      "Total orders were made: 1834\n"
     ]
    }
   ],
   "source": [
    "total_orders = chip['order_id'].nunique()\n",
    "print(f\"Total orders were made: {total_orders}\")"
   ]
  },
  {
   "cell_type": "markdown",
   "id": "95225da1",
   "metadata": {},
   "source": [
    "16. What is the average revenue amount per order?"
   ]
  },
  {
   "cell_type": "code",
   "execution_count": 81,
   "id": "4c87d354",
   "metadata": {},
   "outputs": [
    {
     "name": "stdout",
     "output_type": "stream",
     "text": [
      "Average revenue: 21.39$\n"
     ]
    }
   ],
   "source": [
    "average_revenue = revenue / total_orders\n",
    "print(f\"Average revenue: {round(average_revenue, 2)}$\")"
   ]
  },
  {
   "cell_type": "markdown",
   "id": "9144987f",
   "metadata": {},
   "source": [
    "17. How many different items are sold?"
   ]
  },
  {
   "cell_type": "code",
   "execution_count": 82,
   "id": "8896a8e8",
   "metadata": {},
   "outputs": [
    {
     "name": "stdout",
     "output_type": "stream",
     "text": [
      "Different items sold: 50\n"
     ]
    }
   ],
   "source": [
    "unique_items = chip['item_name'].nunique()\n",
    "print(f\"Different items sold: {unique_items}\")"
   ]
  },
  {
   "cell_type": "markdown",
   "id": "0ed2d364",
   "metadata": {},
   "source": [
    "# Question 6\n"
   ]
  },
  {
   "cell_type": "markdown",
   "id": "71cffbe5",
   "metadata": {},
   "source": [
    "Create a line plot showing the number of marriages and divorces per capita in the\n",
    "U.S. between 1867 and 2014. Label both lines and show the legend. \n",
    "Don't forget to label your axes!"
   ]
  },
  {
   "cell_type": "code",
   "execution_count": 84,
   "id": "6323d218",
   "metadata": {},
   "outputs": [
    {
     "data": {
      "image/png": "[encoded data removed]",
      "text/plain": [
       "<Figure size 640x480 with 1 Axes>"
      ]
     },
     "metadata": {},
     "output_type": "display_data"
    }
   ],
   "source": [
    "import pandas as pd\n",
    "import matplotlib.pyplot as plt\n",
    "\n",
    "\n",
    "data = pd.read_csv('us-marriages-divorces-1867-2014.csv', index_col=0)\n",
    "\n",
    "data['Marriage Rate'] = data['Marriages'] / data['Population'] \n",
    "data['Divorce Rate'] = data['Divorces'] / data['Population']\n",
    "\n",
    "plt.plot(data['Marriage Rate'], label='Marriage Rate')\n",
    "plt.plot(data['Divorce Rate'], label='Divorce Rate')\n",
    "\n",
    "plt.xlabel('Year')\n",
    "plt.ylabel('Rate per Capita')\n",
    "plt.title('Marriage and Divorce Rates per Capita in the U.S. (1867-2014)')\n",
    "\n",
    "plt.legend()\n",
    "\n",
    "plt.show()"
   ]
  },
  {
   "cell_type": "markdown",
   "id": "d46b8c7c",
   "metadata": {},
   "source": [
    "# Question 7"
   ]
  },
  {
   "cell_type": "markdown",
   "id": "6b699d08",
   "metadata": {},
   "source": [
    "Create a vertical bar chart comparing the number of marriages and divorces per capita in the U.S. between 1900, 1950, and 2000.\n",
    "Don't forget to label your axes!"
   ]
  },
  {
   "cell_type": "code",
   "execution_count": 85,
   "id": "0763d701",
   "metadata": {},
   "outputs": [
    {
     "data": {
      "image/png": "[encoded data removed]",
      "text/plain": [
       "<Figure size 640x480 with 1 Axes>"
      ]
     },
     "metadata": {},
     "output_type": "display_data"
    }
   ],
   "source": [
    "import pandas as pd\n",
    "import matplotlib.pyplot as plt\n",
    "\n",
    "# Read in data from CSV file\n",
    "data = pd.read_csv('us-marriages-divorces-1867-2014.csv', index_col=0)\n",
    "\n",
    "data = data.loc[[1900, 1950, 2000]]\n",
    "\n",
    "data['Marriage Rate'] = data['Marriages'] / data['Population']\n",
    "data['Divorce Rate'] = data['Divorces'] / data['Population']\n",
    "\n",
    "x = ['1900', '1950', '2000']\n",
    "marriage_rates = data['Marriage Rate']\n",
    "divorce_rates = data['Divorce Rate']\n",
    "bar_width = 0.35\n",
    "\n",
    "fig, ax = plt.subplots()\n",
    "marriage_bar = ax.bar(x, marriage_rates, bar_width, label='Marriage Rate')\n",
    "divorce_bar = ax.bar(x, divorce_rates, bar_width, bottom=marriage_rates, label='Divorce Rate')\n",
    "\n",
    "ax.set_xlabel('Year')\n",
    "ax.set_ylabel('Rate per Capita')\n",
    "ax.set_title('Marriage and Divorce Rates per Capita in the U.S. (1900, 1950, 2000)')\n",
    "\n",
    "ax.legend()\n",
    "\n",
    "plt.show()"
   ]
  },
  {
   "cell_type": "markdown",
   "id": "aaf99f85",
   "metadata": {},
   "source": [
    "# Question 8"
   ]
  },
  {
   "cell_type": "markdown",
   "id": "25e5a12b",
   "metadata": {},
   "source": [
    "Create a horizontal bar chart that compares the deadliest actors in Hollywood. Sort the actors by their kill count and label each bar with the corresponding actor's name. \n",
    "Don't forget to label your axes!"
   ]
  },
  {
   "cell_type": "code",
   "execution_count": 87,
   "id": "15531d95",
   "metadata": {},
   "outputs": [
    {
     "data": {
      "image/png": "[encoded data removed]",
      "text/plain": [
       "<Figure size 1200x600 with 1 Axes>"
      ]
     },
     "metadata": {},
     "output_type": "display_data"
    }
   ],
   "source": [
    "import pandas as pd\n",
    "import matplotlib.pyplot as plt\n",
    "\n",
    "data = pd.read_csv('actor_kill_counts.csv')\n",
    "\n",
    "data_sorted = data.sort_values('Count', ascending=True)\n",
    "\n",
    "plt.figure(figsize=(12, 6))\n",
    "plt.barh(data_sorted['Actor'], data_sorted['Count'])\n",
    "\n",
    "plt.xlabel('Kill Count')\n",
    "plt.ylabel('Actor')\n",
    "plt.title('Deadliest Actors in Hollywood')\n",
    "\n",
    "plt.show()"
   ]
  },
  {
   "cell_type": "markdown",
   "id": "5684259b",
   "metadata": {},
   "source": [
    "## Question 9"
   ]
  },
  {
   "cell_type": "markdown",
   "id": "ce10280d",
   "metadata": {},
   "source": [
    "Create a pie chart showing the fraction of all Roman Emperors that were assassinated.\n",
    "Make sure that the pie chart is an even circle, labels the categories, and shows the percentage breakdown of the categories."
   ]
  },
  {
   "cell_type": "code",
   "execution_count": 92,
   "id": "f6446f04",
   "metadata": {},
   "outputs": [
    {
     "data": {
      "image/png": "[encoded data removed]",
      "text/plain": [
       "<Figure size 800x800 with 1 Axes>"
      ]
     },
     "metadata": {},
     "output_type": "display_data"
    }
   ],
   "source": [
    "import pandas as pd\n",
    "import matplotlib.pyplot as plt\n",
    "\n",
    "data = pd.raead_csv('roman-emperor-reigns.csv')\n",
    "\n",
    "cause_counts = data['Cause_of_Death'].value_counts()\n",
    "\n",
    "assassinations = cause_counts[cause_counts.index.str.contains('Assassinated')].sum()\n",
    "possibly_assassinated = cause_counts[cause_counts.index.str.contains('Possibly assassinated')].sum()\n",
    "\n",
    "fraction_assassinated = assassinations / cause_counts.sum()\n",
    "fraction_possibly_assassinated = possibly_assassinated / cause_counts.sum()\n",
    "\n",
    "plt.figure(figsize=(8, 8))\n",
    "labels = ['Assassinated', 'Possibly assassinated', 'Others']\n",
    "sizes = [fraction_assassinated, fraction_possibly_assassinated, 1 - (fraction_assassinated + fraction_possibly_assassinated)]\n",
    "plt.pie(sizes, labels=labels, autopct='%1.1f%%', startangle=90)\n",
    "\n",
    "plt.axis('equal')\n",
    "\n",
    "plt.title('Assassinated Roman Emperors')\n",
    "\n",
    "plt.show()"
   ]
  },
  {
   "cell_type": "markdown",
   "id": "7fbbc2de",
   "metadata": {},
   "source": [
    "## Question 10"
   ]
  },
  {
   "cell_type": "markdown",
   "id": "f7dc6c73",
   "metadata": {},
   "source": [
    "Create a scatter plot showing the relationship between the total revenue earned by arcades and the number of Computer Science PhDs awarded in the U.S. between \n",
    "2000 and 2009.<br>\n",
    "Don't forget to label your axes! <br>\n",
    "Color each dot according to its year."
   ]
  },
  {
   "cell_type": "code",
   "execution_count": 91,
   "id": "ff875ea4",
   "metadata": {},
   "outputs": [
    {
     "data": {
      "image/png": "[encoded data removed]",
      "text/plain": [
       "<Figure size 1100x700 with 2 Axes>"
      ]
     },
     "metadata": {},
     "output_type": "display_data"
    }
   ],
   "source": [
    "import pandas as pd\n",
    "import matplotlib.pyplot as plt\n",
    "\n",
    "data = pd.read_csv('arcade-revenue-vs-cs-doctorates.csv')\n",
    "\n",
    "plt.figure(figsize=(11, 7))\n",
    "scatter = plt.scatter(data['Total Arcade Revenue (billions)'],\n",
    "                      data['Computer Science Doctorates Awarded (US)'],\n",
    "                      c=data['Year'], cmap='viridis')\n",
    "\n",
    "cbar = plt.colorbar(scatter)\n",
    "cbar.set_label('Year')\n",
    "\n",
    "plt.xlabel('Total Arcade Revenue (in billions)')\n",
    "plt.ylabel('Computer Science Doctorates Awarded (US)')\n",
    "plt.title('Total Arcade Revenue vs Computer Science Doctorates Awarded (2000-2009)')\n",
    "\n",
    "plt.show()"
   ]
  }
 ],
 "metadata": {
  "kernelspec": {
   "display_name": "Python 3 (ipykernel)",
   "language": "python",
   "name": "python3"
  },
  "language_info": {
   "codemirror_mode": {
    "name": "ipython",
    "version": 3
   },
   "file_extension": ".py",
   "mimetype": "text/x-python",
   "name": "python",
   "nbconvert_exporter": "python",
   "pygments_lexer": "ipython3",
   "version": "3.9.13"
  }
 },
 "nbformat": 4,
 "nbformat_minor": 5
}
